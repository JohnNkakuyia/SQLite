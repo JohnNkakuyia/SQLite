{
 "cells": [
  {
   "cell_type": "markdown",
   "metadata": {},
   "source": [
    "###  SELECTING DATA- SQLITE"
   ]
  },
  {
   "cell_type": "markdown",
   "metadata": {},
   "source": [
    " we  will explore essential techniques for working with SQLite databases, focusing on establishing a connection, querying data, and exploring database structure. SQLite, a lightweight database engine,  which allows you to run SQL queries within a file on your computer, making it ideal for local data analysis tasks.\n",
    " \n",
    " We will cover:\n",
    "\n",
    "1. **Connecting to SQLite Databases**: How to establish a `connection` to the database and use a `cursor` to execute SQL commands.\n",
    "2. **Basic Data Retrieval**: Writing `SELECT` queries to retrieve data, using filters with `WHERE`, sorting with `ORDER BY`, and limiting results with `LIMIT`.\n",
    "3. **Schema Exploration**: Using the `PRAGMA table_info(table_name)` command to inspect table structure, view column details, and ensure data is correctly typed.\n",
    "4. **Modifying Database Structure**: Adding new columns with `ALTER TABLE` to support correctly-typed data for optimized analysis."
   ]
  },
  {
   "cell_type": "code",
   "execution_count": 1,
   "metadata": {
    "colab": {
     "base_uri": "https://localhost:8080/"
    },
    "id": "HMnscZa0JQ1n",
    "outputId": "15aa69cb-1f74-4723-edfb-76120bfc5761"
   },
   "outputs": [
    {
     "name": "stdout",
     "output_type": "stream",
     "text": [
      "Database-Schema.png\n",
      "SQL.ipynb\n",
      "SQLite\n",
      "connecting_database_using_python\n",
      "data.sqlite\n"
     ]
    }
   ],
   "source": [
    "# List the files and directories in the current working directory\n",
    "!ls\n"
   ]
  },
  {
   "cell_type": "markdown",
   "metadata": {
    "id": "Ztj8zgD6O5CL"
   },
   "source": [
    "we have a file extension  `.sqlite` but you will also see examples ending with `.db`"
   ]
  },
  {
   "cell_type": "markdown",
   "metadata": {
    "id": "h0ah_hOyOqTg"
   },
   "source": [
    "Read the data.sqlite file. Reading the file without using any library gives us a bunch of garbled  nonsense"
   ]
  },
  {
   "cell_type": "code",
   "execution_count": 2,
   "metadata": {
    "colab": {
     "base_uri": "https://localhost:8080/"
    },
    "id": "Cd2zFI7fOn4p",
    "outputId": "fe4c187b-ae3e-4375-b149-a4f5421b3da3"
   },
   "outputs": [
    {
     "name": "stdout",
     "output_type": "stream",
     "text": [
      "b'SQLite format 3\\x00\\x10\\x00\\x01\\x01\\x00@  \\x00\\x00\\x00\\x12\\x00\\x00\\x009\\x00\\x00\\x00\\x00\\x00\\x00\\x00\\x00\\x00\\x00\\x00\\t\\x00\\x00\\x00\\x04\\x00\\x00\\x00\\x00\\x00\\x00\\x00\\x00\\x00\\x00\\x00\\x01\\x00\\x00\\x00\\x00\\x00\\x00\\x00\\x00\\x00\\x00\\x00\\x00\\x00\\x00\\x00\\x00\\x00\\x00\\x00\\x00\\x00\\x00\\x00\\x00\\x00\\x00\\x00\\x00\\x00\\x00\\x00\\x00\\x00\\x00\\x00\\x12\\x00.G\\xa8'\n"
     ]
    }
   ],
   "source": [
    "# Reading the file without using any library\n",
    "with open(\"data.sqlite\", \"rb\") as f:\n",
    "    print(f.read(100))"
   ]
  },
  {
   "cell_type": "markdown",
   "metadata": {},
   "source": [
    "**Connection**"
   ]
  },
  {
   "cell_type": "markdown",
   "metadata": {
    "id": "MJ6zITmvQ5AR"
   },
   "source": [
    " we will use the `sqlite3` module ([sqlite module](https://docs.python.org/3/library/sqlite3.html)). The way that this module works is that we start by opening a *connection* to the database with `sqlite3.connect`:"
   ]
  },
  {
   "cell_type": "code",
   "execution_count": 3,
   "metadata": {
    "id": "xnQgRssiR5xf"
   },
   "outputs": [],
   "source": [
    "#  imports the sqlite3 which provides tools to work with SQLite database\n",
    "import sqlite3\n",
    "# establishing connection to SQLite database\n",
    "conn = sqlite3.connect('data.sqlite')"
   ]
  },
  {
   "cell_type": "markdown",
   "metadata": {
    "id": "Y9r-hLWEVWQP"
   },
   "source": [
    "NB: **If the file doesn't exist, SQLite will create it in the current directory**"
   ]
  },
  {
   "cell_type": "code",
   "execution_count": 4,
   "metadata": {
    "colab": {
     "base_uri": "https://localhost:8080/"
    },
    "id": "gtDj_kpBVVtG",
    "outputId": "d1e10467-2513-450b-daf1-d554291266a4"
   },
   "outputs": [
    {
     "name": "stdout",
     "output_type": "stream",
     "text": [
      "data type: <class 'sqlite3.Connection'>\n",
      "uncommitted changes: False\n",
      "total changes: 0\n"
     ]
    }
   ],
   "source": [
    "# checking on connection attributes\n",
    "print(\"data type:\", type(conn))\n",
    "print(\"uncommitted changes:\", conn.in_transaction)\n",
    "print(\"total changes:\", conn.total_changes)"
   ]
  },
  {
   "cell_type": "markdown",
   "metadata": {
    "id": "fG2TqZB6WXkF"
   },
   "source": [
    "data type is sqlite3 object with no changes, meaning not performed any queries.\n",
    "\n",
    "**Cursor**\n",
    "\n",
    "A cursor in SQL allows for row-by-row processing, which is useful for tasks that require individual row handling or complex operations that aren't easy with set-based commands.\n",
    "\n",
    "you create by calling `.cursor`"
   ]
  },
  {
   "cell_type": "code",
   "execution_count": 5,
   "metadata": {
    "colab": {
     "base_uri": "https://localhost:8080/"
    },
    "id": "OnN2ZHGCXoMQ",
    "outputId": "61e7c9a4-bac1-4848-cb0d-aa3e0c9de266"
   },
   "outputs": [
    {
     "name": "stdout",
     "output_type": "stream",
     "text": [
      "data type: <class 'sqlite3.Cursor'>\n"
     ]
    }
   ],
   "source": [
    "# creating a cursor object\n",
    "cur = conn.cursor()\n",
    "print(\"data type:\", type(cur))"
   ]
  },
  {
   "cell_type": "markdown",
   "metadata": {
    "id": "Mlt3tc8dYq06"
   },
   "source": [
    "**Exploring Schema using Cursor**\n",
    "\n",
    "we can cursor to know what tables are contains in the database.This requires two steps:\n",
    "\n",
    "1. Executing the query (`.execute()`)\n",
    "2. Fetching the results (`.fetchone()`, `.fetchmany()`, or `.fetchall()`)"
   ]
  },
  {
   "cell_type": "code",
   "execution_count": 6,
   "metadata": {
    "colab": {
     "base_uri": "https://localhost:8080/"
    },
    "id": "4XGEOFqLafnz",
    "outputId": "aa469279-03d8-476a-a480-c42e1fc1fa4c"
   },
   "outputs": [
    {
     "data": {
      "text/plain": [
       "[('orderdetails',),\n",
       " ('payments',),\n",
       " ('offices',),\n",
       " ('customers',),\n",
       " ('orders',),\n",
       " ('productlines',),\n",
       " ('products',),\n",
       " ('employees',)]"
      ]
     },
     "execution_count": 6,
     "metadata": {},
     "output_type": "execute_result"
    }
   ],
   "source": [
    "# excute query\n",
    "cur.execute(\"\"\"SELECT name FROM sqlite_master WHERE type = 'table';\"\"\")\n",
    "# fetch the result and store in table_names\n",
    "table_names =cur.fetchall()\n",
    "table_names"
   ]
  },
  {
   "cell_type": "code",
   "execution_count": 7,
   "metadata": {
    "colab": {
     "base_uri": "https://localhost:8080/"
    },
    "id": "iDBNMwcbaSw8",
    "outputId": "2e303b50-ce06-48b8-e6f1-2cff9491d82c"
   },
   "outputs": [
    {
     "data": {
      "text/plain": [
       "[('CREATE TABLE `employees` (`employeeNumber`, `lastName`, `firstName`, `extension`, `email`, `officeCode`, `reportsTo`, `jobTitle`)',)]"
      ]
     },
     "execution_count": 7,
     "metadata": {},
     "output_type": "execute_result"
    }
   ],
   "source": [
    "#  getting the schema for employees\n",
    "cur.execute(\"\"\"SELECT sql FROM sqlite_master WHERE type ='table' AND name = 'employees';\"\"\")\n",
    "employees_schema = cur.fetchall()\n",
    "employees_schema"
   ]
  },
  {
   "cell_type": "code",
   "execution_count": 8,
   "metadata": {
    "colab": {
     "base_uri": "https://localhost:8080/"
    },
    "id": "_fuuVZvKdYzY",
    "outputId": "45b8ca79-eb18-4cea-8c9a-17f3b2daf332"
   },
   "outputs": [
    {
     "data": {
      "text/plain": [
       "[('CREATE TABLE `customers` (`customerNumber`, `customerName`, `contactLastName`, `contactFirstName`, `phone`, `addressLine1`, `addressLine2`, `city`, `state`, `postalCode`, `country`, `salesRepEmployeeNumber`, `creditLimit`, creditLimitNumeric REAL)',)]"
      ]
     },
     "execution_count": 8,
     "metadata": {},
     "output_type": "execute_result"
    }
   ],
   "source": [
    "# getting the schema for customers\n",
    "cur.execute(\"\"\"SELECT sql FROM sqlite_master WHERE type= 'table' AND name='customers';\"\"\")\n",
    "customers_schema = cur.fetchall()\n",
    "customers_schema"
   ]
  },
  {
   "cell_type": "markdown",
   "metadata": {
    "id": "mZvF9tItZphC"
   },
   "source": [
    "**In summary**\n",
    "\n",
    "* *Connection and Cursor Creation*: This sets up our database interaction.\n",
    "* *Schema Query*: The query \"SELECT name FROM sqlite_master WHERE type='table';\" retrieves the names of all tables in the database.\n",
    "* *Fetch and Print*: We fetch all results and loop through them to print each table name.\n",
    "\n",
    "\n"
   ]
  },
  {
   "cell_type": "markdown",
   "metadata": {
    "id": "Oheh5Ss6f5cM"
   },
   "source": [
    "**ERD OVERVIEW**\n",
    "\n",
    "\n",
    "<img src = 'Database-Schema.png' alt= 'Database-Schema.png'>"
   ]
  },
  {
   "cell_type": "markdown",
   "metadata": {},
   "source": [
    "**SELECT Clause**"
   ]
  },
  {
   "cell_type": "code",
   "execution_count": 9,
   "metadata": {
    "colab": {
     "base_uri": "https://localhost:8080/"
    },
    "id": "bGMCsOLDgQnR",
    "outputId": "5588e299-0f34-47c1-81c6-47a7dc672af6"
   },
   "outputs": [
    {
     "data": {
      "text/plain": [
       "[('10100', '2003-01-06', '2003-01-13', '2003-01-10', 'Shipped', '', '363'),\n",
       " ('10101',\n",
       "  '2003-01-09',\n",
       "  '2003-01-18',\n",
       "  '2003-01-11',\n",
       "  'Shipped',\n",
       "  'Check on availability.',\n",
       "  '128'),\n",
       " ('10102', '2003-01-10', '2003-01-18', '2003-01-14', 'Shipped', '', '181'),\n",
       " ('10103', '2003-01-29', '2003-02-07', '2003-02-02', 'Shipped', '', '121'),\n",
       " ('10104', '2003-01-31', '2003-02-09', '2003-02-01', 'Shipped', '', '141')]"
      ]
     },
     "execution_count": 9,
     "metadata": {},
     "output_type": "execute_result"
    }
   ],
   "source": [
    "# getting information abt first 5 orders\n",
    "\"\"\"`*` Means all columns \"\"\"\n",
    "cur.execute(\"\"\"SELECT * FROM orders LIMIT 5;\"\"\")\n",
    "cur.fetchall()"
   ]
  },
  {
   "cell_type": "markdown",
   "metadata": {
    "id": "nQvxvHBVg9rk"
   },
   "source": [
    "Because `.execute()` returns the cursor object, it also possible to combine the previous two lines into one line, like so:"
   ]
  },
  {
   "cell_type": "code",
   "execution_count": 10,
   "metadata": {
    "colab": {
     "base_uri": "https://localhost:8080/"
    },
    "id": "uH0_l9nrh8KA",
    "outputId": "7469056f-400c-43dd-e134-574a36f6d3b9"
   },
   "outputs": [
    {
     "data": {
      "text/plain": [
       "[('1',\n",
       "  'San Francisco',\n",
       "  '+1 650 219 4782',\n",
       "  '100 Market Street',\n",
       "  'Suite 300',\n",
       "  'CA',\n",
       "  'USA',\n",
       "  '94080',\n",
       "  'NA'),\n",
       " ('2',\n",
       "  'Boston',\n",
       "  '+1 215 837 0825',\n",
       "  '1550 Court Place',\n",
       "  'Suite 102',\n",
       "  'MA',\n",
       "  'USA',\n",
       "  '02107',\n",
       "  'NA'),\n",
       " ('3',\n",
       "  'NYC',\n",
       "  '+1 212 555 3000',\n",
       "  '523 East 53rd Street',\n",
       "  'apt. 5A',\n",
       "  'NY',\n",
       "  'USA',\n",
       "  '10022',\n",
       "  'NA'),\n",
       " ('4',\n",
       "  'Paris',\n",
       "  '+33 14 723 4404',\n",
       "  \"43 Rue Jouffroy D'abbans\",\n",
       "  '',\n",
       "  '',\n",
       "  'France',\n",
       "  '75017',\n",
       "  'EMEA'),\n",
       " ('5',\n",
       "  'Tokyo',\n",
       "  '+81 33 224 5000',\n",
       "  '4-1 Kioicho',\n",
       "  '',\n",
       "  'Chiyoda-Ku',\n",
       "  'Japan',\n",
       "  '102-8578',\n",
       "  'Japan')]"
      ]
     },
     "execution_count": 10,
     "metadata": {},
     "output_type": "execute_result"
    }
   ],
   "source": [
    "cur.execute(\"\"\"SELECT * FROM offices LIMIT 5;\"\"\").fetchall()"
   ]
  },
  {
   "cell_type": "markdown",
   "metadata": {
    "id": "tPDfSrXKimJZ"
   },
   "source": [
    "For readability we can also adopt the following lines of codes"
   ]
  },
  {
   "cell_type": "code",
   "execution_count": 11,
   "metadata": {
    "colab": {
     "base_uri": "https://localhost:8080/"
    },
    "id": "20ZmeVTAivwM",
    "outputId": "64c1efbb-faa1-4620-edd0-e9615530a8e9"
   },
   "outputs": [
    {
     "data": {
      "text/plain": [
       "[('1002',\n",
       "  'Murphy',\n",
       "  'Diane',\n",
       "  'x5800',\n",
       "  'dmurphy@classicmodelcars.com',\n",
       "  '1',\n",
       "  '',\n",
       "  'President'),\n",
       " ('1056',\n",
       "  'Patterson',\n",
       "  'Mary',\n",
       "  'x4611',\n",
       "  'mpatterso@classicmodelcars.com',\n",
       "  '1',\n",
       "  '1002',\n",
       "  'VP Sales'),\n",
       " ('1076',\n",
       "  'Firrelli',\n",
       "  'Jeff',\n",
       "  'x9273',\n",
       "  'jfirrelli@classicmodelcars.com',\n",
       "  '1',\n",
       "  '1002',\n",
       "  'VP Marketing')]"
      ]
     },
     "execution_count": 11,
     "metadata": {},
     "output_type": "execute_result"
    }
   ],
   "source": [
    "First_3_employees = \"\"\"\n",
    "SELECT *\n",
    "FROM employees\n",
    "LIMIT 3\n",
    ";\n",
    "\"\"\"\n",
    "cur.execute(First_3_employees).fetchall()"
   ]
  },
  {
   "cell_type": "markdown",
   "metadata": {
    "id": "OkyVvdlUj3id"
   },
   "source": [
    "**Structuring Results as Pandas DataFrames**\n",
    "\n",
    "In many cases, a more practical output format is to convert these results into Pandas DataFrames. An approach for doing this is to pass the `c.fetchall()` output into a Pandas DataFrame constructor."
   ]
  },
  {
   "cell_type": "code",
   "execution_count": 12,
   "metadata": {
    "colab": {
     "base_uri": "https://localhost:8080/",
     "height": 143
    },
    "id": "k3akmy0OkmNv",
    "outputId": "7685f2a7-6a53-45ad-8011-1ec2371fba0d"
   },
   "outputs": [
    {
     "data": {
      "text/html": [
       "<div>\n",
       "<style scoped>\n",
       "    .dataframe tbody tr th:only-of-type {\n",
       "        vertical-align: middle;\n",
       "    }\n",
       "\n",
       "    .dataframe tbody tr th {\n",
       "        vertical-align: top;\n",
       "    }\n",
       "\n",
       "    .dataframe thead th {\n",
       "        text-align: right;\n",
       "    }\n",
       "</style>\n",
       "<table border=\"1\" class=\"dataframe\">\n",
       "  <thead>\n",
       "    <tr style=\"text-align: right;\">\n",
       "      <th></th>\n",
       "      <th>0</th>\n",
       "      <th>1</th>\n",
       "      <th>2</th>\n",
       "      <th>3</th>\n",
       "      <th>4</th>\n",
       "      <th>5</th>\n",
       "      <th>6</th>\n",
       "      <th>7</th>\n",
       "    </tr>\n",
       "  </thead>\n",
       "  <tbody>\n",
       "    <tr>\n",
       "      <th>0</th>\n",
       "      <td>1002</td>\n",
       "      <td>Murphy</td>\n",
       "      <td>Diane</td>\n",
       "      <td>x5800</td>\n",
       "      <td>dmurphy@classicmodelcars.com</td>\n",
       "      <td>1</td>\n",
       "      <td></td>\n",
       "      <td>President</td>\n",
       "    </tr>\n",
       "    <tr>\n",
       "      <th>1</th>\n",
       "      <td>1056</td>\n",
       "      <td>Patterson</td>\n",
       "      <td>Mary</td>\n",
       "      <td>x4611</td>\n",
       "      <td>mpatterso@classicmodelcars.com</td>\n",
       "      <td>1</td>\n",
       "      <td>1002</td>\n",
       "      <td>VP Sales</td>\n",
       "    </tr>\n",
       "    <tr>\n",
       "      <th>2</th>\n",
       "      <td>1076</td>\n",
       "      <td>Firrelli</td>\n",
       "      <td>Jeff</td>\n",
       "      <td>x9273</td>\n",
       "      <td>jfirrelli@classicmodelcars.com</td>\n",
       "      <td>1</td>\n",
       "      <td>1002</td>\n",
       "      <td>VP Marketing</td>\n",
       "    </tr>\n",
       "  </tbody>\n",
       "</table>\n",
       "</div>"
      ],
      "text/plain": [
       "      0          1      2      3                               4  5     6  \\\n",
       "0  1002     Murphy  Diane  x5800    dmurphy@classicmodelcars.com  1         \n",
       "1  1056  Patterson   Mary  x4611  mpatterso@classicmodelcars.com  1  1002   \n",
       "2  1076   Firrelli   Jeff  x9273  jfirrelli@classicmodelcars.com  1  1002   \n",
       "\n",
       "              7  \n",
       "0     President  \n",
       "1      VP Sales  \n",
       "2  VP Marketing  "
      ]
     },
     "execution_count": 12,
     "metadata": {},
     "output_type": "execute_result"
    }
   ],
   "source": [
    "# importing pandas\n",
    "import pandas as pd\n",
    "# passing result into Pandas DataFrame\n",
    "df = pd.DataFrame(cur.execute(First_3_employees).fetchall())\n",
    "df"
   ]
  },
  {
   "cell_type": "markdown",
   "metadata": {
    "id": "wnz9a22FmAbv"
   },
   "source": [
    "we can now access the columns names using `cur.description`"
   ]
  },
  {
   "cell_type": "code",
   "execution_count": 13,
   "metadata": {
    "colab": {
     "base_uri": "https://localhost:8080/"
    },
    "id": "a-JW39TGmIit",
    "outputId": "5d8eec47-0397-463c-d7af-77408780f0f2"
   },
   "outputs": [
    {
     "data": {
      "text/plain": [
       "(('employeeNumber', None, None, None, None, None, None),\n",
       " ('lastName', None, None, None, None, None, None),\n",
       " ('firstName', None, None, None, None, None, None),\n",
       " ('extension', None, None, None, None, None, None),\n",
       " ('email', None, None, None, None, None, None),\n",
       " ('officeCode', None, None, None, None, None, None),\n",
       " ('reportsTo', None, None, None, None, None, None),\n",
       " ('jobTitle', None, None, None, None, None, None))"
      ]
     },
     "execution_count": 13,
     "metadata": {},
     "output_type": "execute_result"
    }
   ],
   "source": [
    "cur.description"
   ]
  },
  {
   "cell_type": "markdown",
   "metadata": {
    "id": "wdQOIfCtoirR"
   },
   "source": [
    "Following the DataFrame creation, use a list comprehension to define the column names:\n",
    "\n",
    "`df.columns = [x[0] for x in cur.description]`"
   ]
  },
  {
   "cell_type": "code",
   "execution_count": 14,
   "metadata": {
    "colab": {
     "base_uri": "https://localhost:8080/",
     "height": 180
    },
    "id": "We5JpJ0KoxNt",
    "outputId": "99acf35d-d84a-41c4-898f-9f4a75108b57"
   },
   "outputs": [
    {
     "data": {
      "text/html": [
       "<div>\n",
       "<style scoped>\n",
       "    .dataframe tbody tr th:only-of-type {\n",
       "        vertical-align: middle;\n",
       "    }\n",
       "\n",
       "    .dataframe tbody tr th {\n",
       "        vertical-align: top;\n",
       "    }\n",
       "\n",
       "    .dataframe thead th {\n",
       "        text-align: right;\n",
       "    }\n",
       "</style>\n",
       "<table border=\"1\" class=\"dataframe\">\n",
       "  <thead>\n",
       "    <tr style=\"text-align: right;\">\n",
       "      <th></th>\n",
       "      <th>employeeNumber</th>\n",
       "      <th>lastName</th>\n",
       "      <th>firstName</th>\n",
       "      <th>extension</th>\n",
       "      <th>email</th>\n",
       "      <th>officeCode</th>\n",
       "      <th>reportsTo</th>\n",
       "      <th>jobTitle</th>\n",
       "    </tr>\n",
       "  </thead>\n",
       "  <tbody>\n",
       "    <tr>\n",
       "      <th>0</th>\n",
       "      <td>1002</td>\n",
       "      <td>Murphy</td>\n",
       "      <td>Diane</td>\n",
       "      <td>x5800</td>\n",
       "      <td>dmurphy@classicmodelcars.com</td>\n",
       "      <td>1</td>\n",
       "      <td></td>\n",
       "      <td>President</td>\n",
       "    </tr>\n",
       "    <tr>\n",
       "      <th>1</th>\n",
       "      <td>1056</td>\n",
       "      <td>Patterson</td>\n",
       "      <td>Mary</td>\n",
       "      <td>x4611</td>\n",
       "      <td>mpatterso@classicmodelcars.com</td>\n",
       "      <td>1</td>\n",
       "      <td>1002</td>\n",
       "      <td>VP Sales</td>\n",
       "    </tr>\n",
       "    <tr>\n",
       "      <th>2</th>\n",
       "      <td>1076</td>\n",
       "      <td>Firrelli</td>\n",
       "      <td>Jeff</td>\n",
       "      <td>x9273</td>\n",
       "      <td>jfirrelli@classicmodelcars.com</td>\n",
       "      <td>1</td>\n",
       "      <td>1002</td>\n",
       "      <td>VP Marketing</td>\n",
       "    </tr>\n",
       "  </tbody>\n",
       "</table>\n",
       "</div>"
      ],
      "text/plain": [
       "  employeeNumber   lastName firstName extension  \\\n",
       "0           1002     Murphy     Diane     x5800   \n",
       "1           1056  Patterson      Mary     x4611   \n",
       "2           1076   Firrelli      Jeff     x9273   \n",
       "\n",
       "                            email officeCode reportsTo      jobTitle  \n",
       "0    dmurphy@classicmodelcars.com          1               President  \n",
       "1  mpatterso@classicmodelcars.com          1      1002      VP Sales  \n",
       "2  jfirrelli@classicmodelcars.com          1      1002  VP Marketing  "
      ]
     },
     "execution_count": 14,
     "metadata": {},
     "output_type": "execute_result"
    }
   ],
   "source": [
    "df.columns = [x[0] for x in cur.description]\n",
    "df"
   ]
  },
  {
   "cell_type": "markdown",
   "metadata": {
    "id": "lxlPPpFprC6S"
   },
   "source": [
    " Pandas provides a method specifically for reading from SQL databases ([reading from SQL database](https://pandas.pydata.org/docs/reference/api/pandas.read_sql.html)). Rather than using the cursor, you only need the connection object:\n",
    "\n",
    "\n",
    "The code executes the SQL query to fetch data from the database and loads it directly into a Pandas DataFrame for further analysis.\n",
    "\n",
    "`conn` connection object allows Pandas to communicate with the database and run the query."
   ]
  },
  {
   "cell_type": "code",
   "execution_count": 15,
   "metadata": {
    "colab": {
     "base_uri": "https://localhost:8080/",
     "height": 180
    },
    "id": "e0jaxIv6qWW6",
    "outputId": "7bd02f73-aa87-402d-f488-0a0eadf76593"
   },
   "outputs": [
    {
     "data": {
      "text/html": [
       "<div>\n",
       "<style scoped>\n",
       "    .dataframe tbody tr th:only-of-type {\n",
       "        vertical-align: middle;\n",
       "    }\n",
       "\n",
       "    .dataframe tbody tr th {\n",
       "        vertical-align: top;\n",
       "    }\n",
       "\n",
       "    .dataframe thead th {\n",
       "        text-align: right;\n",
       "    }\n",
       "</style>\n",
       "<table border=\"1\" class=\"dataframe\">\n",
       "  <thead>\n",
       "    <tr style=\"text-align: right;\">\n",
       "      <th></th>\n",
       "      <th>employeeNumber</th>\n",
       "      <th>lastName</th>\n",
       "      <th>firstName</th>\n",
       "      <th>extension</th>\n",
       "      <th>email</th>\n",
       "      <th>officeCode</th>\n",
       "      <th>reportsTo</th>\n",
       "      <th>jobTitle</th>\n",
       "    </tr>\n",
       "  </thead>\n",
       "  <tbody>\n",
       "    <tr>\n",
       "      <th>0</th>\n",
       "      <td>1002</td>\n",
       "      <td>Murphy</td>\n",
       "      <td>Diane</td>\n",
       "      <td>x5800</td>\n",
       "      <td>dmurphy@classicmodelcars.com</td>\n",
       "      <td>1</td>\n",
       "      <td></td>\n",
       "      <td>President</td>\n",
       "    </tr>\n",
       "    <tr>\n",
       "      <th>1</th>\n",
       "      <td>1056</td>\n",
       "      <td>Patterson</td>\n",
       "      <td>Mary</td>\n",
       "      <td>x4611</td>\n",
       "      <td>mpatterso@classicmodelcars.com</td>\n",
       "      <td>1</td>\n",
       "      <td>1002</td>\n",
       "      <td>VP Sales</td>\n",
       "    </tr>\n",
       "    <tr>\n",
       "      <th>2</th>\n",
       "      <td>1076</td>\n",
       "      <td>Firrelli</td>\n",
       "      <td>Jeff</td>\n",
       "      <td>x9273</td>\n",
       "      <td>jfirrelli@classicmodelcars.com</td>\n",
       "      <td>1</td>\n",
       "      <td>1002</td>\n",
       "      <td>VP Marketing</td>\n",
       "    </tr>\n",
       "  </tbody>\n",
       "</table>\n",
       "</div>"
      ],
      "text/plain": [
       "  employeeNumber   lastName firstName extension  \\\n",
       "0           1002     Murphy     Diane     x5800   \n",
       "1           1056  Patterson      Mary     x4611   \n",
       "2           1076   Firrelli      Jeff     x9273   \n",
       "\n",
       "                            email officeCode reportsTo      jobTitle  \n",
       "0    dmurphy@classicmodelcars.com          1               President  \n",
       "1  mpatterso@classicmodelcars.com          1      1002      VP Sales  \n",
       "2  jfirrelli@classicmodelcars.com          1      1002  VP Marketing  "
      ]
     },
     "execution_count": 15,
     "metadata": {},
     "output_type": "execute_result"
    }
   ],
   "source": [
    "df = pd.read_sql(First_3_employees, conn)\n",
    "df"
   ]
  },
  {
   "cell_type": "markdown",
   "metadata": {
    "id": "O2B9zCv5vXAE"
   },
   "source": [
    "NB we can also use SELECT to select only certain columns, and those will be reflected in the dataframe column names:"
   ]
  },
  {
   "cell_type": "code",
   "execution_count": 16,
   "metadata": {
    "colab": {
     "base_uri": "https://localhost:8080/",
     "height": 363
    },
    "id": "oLaIdRefvcb0",
    "outputId": "fab2d66e-5fd3-40e6-83e3-cd1ffe7e8f60"
   },
   "outputs": [
    {
     "data": {
      "text/html": [
       "<div>\n",
       "<style scoped>\n",
       "    .dataframe tbody tr th:only-of-type {\n",
       "        vertical-align: middle;\n",
       "    }\n",
       "\n",
       "    .dataframe tbody tr th {\n",
       "        vertical-align: top;\n",
       "    }\n",
       "\n",
       "    .dataframe thead th {\n",
       "        text-align: right;\n",
       "    }\n",
       "</style>\n",
       "<table border=\"1\" class=\"dataframe\">\n",
       "  <thead>\n",
       "    <tr style=\"text-align: right;\">\n",
       "      <th></th>\n",
       "      <th>employeeNumber</th>\n",
       "      <th>lastName</th>\n",
       "      <th>firstName</th>\n",
       "    </tr>\n",
       "  </thead>\n",
       "  <tbody>\n",
       "    <tr>\n",
       "      <th>0</th>\n",
       "      <td>1002</td>\n",
       "      <td>Murphy</td>\n",
       "      <td>Diane</td>\n",
       "    </tr>\n",
       "    <tr>\n",
       "      <th>1</th>\n",
       "      <td>1056</td>\n",
       "      <td>Patterson</td>\n",
       "      <td>Mary</td>\n",
       "    </tr>\n",
       "    <tr>\n",
       "      <th>2</th>\n",
       "      <td>1076</td>\n",
       "      <td>Firrelli</td>\n",
       "      <td>Jeff</td>\n",
       "    </tr>\n",
       "    <tr>\n",
       "      <th>3</th>\n",
       "      <td>1088</td>\n",
       "      <td>Patterson</td>\n",
       "      <td>William</td>\n",
       "    </tr>\n",
       "    <tr>\n",
       "      <th>4</th>\n",
       "      <td>1102</td>\n",
       "      <td>Bondur</td>\n",
       "      <td>Gerard</td>\n",
       "    </tr>\n",
       "    <tr>\n",
       "      <th>5</th>\n",
       "      <td>1143</td>\n",
       "      <td>Bow</td>\n",
       "      <td>Anthony</td>\n",
       "    </tr>\n",
       "    <tr>\n",
       "      <th>6</th>\n",
       "      <td>1165</td>\n",
       "      <td>Jennings</td>\n",
       "      <td>Leslie</td>\n",
       "    </tr>\n",
       "    <tr>\n",
       "      <th>7</th>\n",
       "      <td>1166</td>\n",
       "      <td>Thompson</td>\n",
       "      <td>Leslie</td>\n",
       "    </tr>\n",
       "    <tr>\n",
       "      <th>8</th>\n",
       "      <td>1188</td>\n",
       "      <td>Firrelli</td>\n",
       "      <td>Julie</td>\n",
       "    </tr>\n",
       "    <tr>\n",
       "      <th>9</th>\n",
       "      <td>1216</td>\n",
       "      <td>Patterson</td>\n",
       "      <td>Steve</td>\n",
       "    </tr>\n",
       "  </tbody>\n",
       "</table>\n",
       "</div>"
      ],
      "text/plain": [
       "  employeeNumber   lastName firstName\n",
       "0           1002     Murphy     Diane\n",
       "1           1056  Patterson      Mary\n",
       "2           1076   Firrelli      Jeff\n",
       "3           1088  Patterson   William\n",
       "4           1102     Bondur    Gerard\n",
       "5           1143        Bow   Anthony\n",
       "6           1165   Jennings    Leslie\n",
       "7           1166   Thompson    Leslie\n",
       "8           1188   Firrelli     Julie\n",
       "9           1216  Patterson     Steve"
      ]
     },
     "execution_count": 16,
     "metadata": {},
     "output_type": "execute_result"
    }
   ],
   "source": [
    "df = pd.read_sql(\"\"\"SELECT employeeNumber, lastName, firstName FROM employees LIMIT 10;\"\"\", conn)\n",
    "df"
   ]
  },
  {
   "cell_type": "markdown",
   "metadata": {
    "id": "aEeTf_sj0Ux_"
   },
   "source": [
    "  **WHERE CLAUSE**"
   ]
  },
  {
   "cell_type": "markdown",
   "metadata": {
    "id": "0SGgkIZe0rfk"
   },
   "source": [
    "`WHERE` clause filters `SELECT` query results by some **`condition`**.\n",
    "\n",
    "*Syntax*\n",
    "\n",
    "\n",
    "`SELECT column1, column2, ...\n",
    "FROM table_name\n",
    "WHERE condition;\"\"\"`"
   ]
  },
  {
   "cell_type": "markdown",
   "metadata": {
    "id": "XZCYq2rA0lJq"
   },
   "source": [
    "**Key Points:**\n",
    "\n",
    "* The WHERE clause follows the FROM clause in a SQL query.\n",
    "* It is used to filter the rows returned by the query based on the condition(s) provided.\n",
    "* Conditions can involve comparison operators (`=, !=, <, >, <=, >=`), logical operators (`AND`, `OR`, `NOT`), and more complex expressions."
   ]
  },
  {
   "cell_type": "markdown",
   "metadata": {
    "id": "AtL9bQah1F0H"
   },
   "source": [
    "1. Selecting Customers from a Specific City `Boston`"
   ]
  },
  {
   "cell_type": "code",
   "execution_count": 17,
   "metadata": {
    "id": "pOk_9_Lu1I7q"
   },
   "outputs": [
    {
     "data": {
      "text/html": [
       "<div>\n",
       "<style scoped>\n",
       "    .dataframe tbody tr th:only-of-type {\n",
       "        vertical-align: middle;\n",
       "    }\n",
       "\n",
       "    .dataframe tbody tr th {\n",
       "        vertical-align: top;\n",
       "    }\n",
       "\n",
       "    .dataframe thead th {\n",
       "        text-align: right;\n",
       "    }\n",
       "</style>\n",
       "<table border=\"1\" class=\"dataframe\">\n",
       "  <thead>\n",
       "    <tr style=\"text-align: right;\">\n",
       "      <th></th>\n",
       "      <th>customerNumber</th>\n",
       "      <th>customerName</th>\n",
       "      <th>contactLastName</th>\n",
       "      <th>contactFirstName</th>\n",
       "      <th>phone</th>\n",
       "      <th>addressLine1</th>\n",
       "      <th>addressLine2</th>\n",
       "      <th>city</th>\n",
       "      <th>state</th>\n",
       "      <th>postalCode</th>\n",
       "      <th>country</th>\n",
       "      <th>salesRepEmployeeNumber</th>\n",
       "      <th>creditLimit</th>\n",
       "      <th>creditLimitNumeric</th>\n",
       "    </tr>\n",
       "  </thead>\n",
       "  <tbody>\n",
       "    <tr>\n",
       "      <th>0</th>\n",
       "      <td>362</td>\n",
       "      <td>Gifts4AllAges.com</td>\n",
       "      <td>Yoshido</td>\n",
       "      <td>Juri</td>\n",
       "      <td>6175559555</td>\n",
       "      <td>8616 Spinnaker Dr.</td>\n",
       "      <td></td>\n",
       "      <td>Boston</td>\n",
       "      <td>MA</td>\n",
       "      <td>51003</td>\n",
       "      <td>USA</td>\n",
       "      <td>1216</td>\n",
       "      <td>41900.00</td>\n",
       "      <td>41900.0</td>\n",
       "    </tr>\n",
       "    <tr>\n",
       "      <th>1</th>\n",
       "      <td>495</td>\n",
       "      <td>Diecast Collectables</td>\n",
       "      <td>Franco</td>\n",
       "      <td>Valarie</td>\n",
       "      <td>6175552555</td>\n",
       "      <td>6251 Ingle Ln.</td>\n",
       "      <td></td>\n",
       "      <td>Boston</td>\n",
       "      <td>MA</td>\n",
       "      <td>51003</td>\n",
       "      <td>USA</td>\n",
       "      <td>1188</td>\n",
       "      <td>85100.00</td>\n",
       "      <td>85100.0</td>\n",
       "    </tr>\n",
       "  </tbody>\n",
       "</table>\n",
       "</div>"
      ],
      "text/plain": [
       "  customerNumber          customerName contactLastName contactFirstName  \\\n",
       "0            362     Gifts4AllAges.com         Yoshido             Juri   \n",
       "1            495  Diecast Collectables          Franco          Valarie   \n",
       "\n",
       "        phone        addressLine1 addressLine2    city state postalCode  \\\n",
       "0  6175559555  8616 Spinnaker Dr.               Boston    MA      51003   \n",
       "1  6175552555      6251 Ingle Ln.               Boston    MA      51003   \n",
       "\n",
       "  country salesRepEmployeeNumber creditLimit  creditLimitNumeric  \n",
       "0     USA                   1216    41900.00             41900.0  \n",
       "1     USA                   1188    85100.00             85100.0  "
      ]
     },
     "execution_count": 17,
     "metadata": {},
     "output_type": "execute_result"
    }
   ],
   "source": [
    "df = pd.read_sql(\"\"\"SELECT * FROM customers WHERE city = 'Boston' \"\"\", conn)\n",
    "df"
   ]
  },
  {
   "cell_type": "markdown",
   "metadata": {
    "id": "j0UGPPGY1Qxd"
   },
   "source": [
    "2. Selecting Multiple Cities `Boston` `Madrid`"
   ]
  },
  {
   "cell_type": "code",
   "execution_count": 18,
   "metadata": {
    "id": "Ug9EsQV41T98"
   },
   "outputs": [
    {
     "data": {
      "text/html": [
       "<div>\n",
       "<style scoped>\n",
       "    .dataframe tbody tr th:only-of-type {\n",
       "        vertical-align: middle;\n",
       "    }\n",
       "\n",
       "    .dataframe tbody tr th {\n",
       "        vertical-align: top;\n",
       "    }\n",
       "\n",
       "    .dataframe thead th {\n",
       "        text-align: right;\n",
       "    }\n",
       "</style>\n",
       "<table border=\"1\" class=\"dataframe\">\n",
       "  <thead>\n",
       "    <tr style=\"text-align: right;\">\n",
       "      <th></th>\n",
       "      <th>customerNumber</th>\n",
       "      <th>customerName</th>\n",
       "      <th>contactLastName</th>\n",
       "      <th>contactFirstName</th>\n",
       "      <th>phone</th>\n",
       "      <th>addressLine1</th>\n",
       "      <th>addressLine2</th>\n",
       "      <th>city</th>\n",
       "      <th>state</th>\n",
       "      <th>postalCode</th>\n",
       "      <th>country</th>\n",
       "      <th>salesRepEmployeeNumber</th>\n",
       "      <th>creditLimit</th>\n",
       "      <th>creditLimitNumeric</th>\n",
       "    </tr>\n",
       "  </thead>\n",
       "  <tbody>\n",
       "    <tr>\n",
       "      <th>0</th>\n",
       "      <td>141</td>\n",
       "      <td>Euro+ Shopping Channel</td>\n",
       "      <td>Freyre</td>\n",
       "      <td>Diego</td>\n",
       "      <td>(91) 555 94 44</td>\n",
       "      <td>C/ Moralzarzal, 86</td>\n",
       "      <td></td>\n",
       "      <td>Madrid</td>\n",
       "      <td></td>\n",
       "      <td>28034</td>\n",
       "      <td>Spain</td>\n",
       "      <td>1370</td>\n",
       "      <td>227600.00</td>\n",
       "      <td>227600.0</td>\n",
       "    </tr>\n",
       "    <tr>\n",
       "      <th>1</th>\n",
       "      <td>237</td>\n",
       "      <td>ANG Resellers</td>\n",
       "      <td>Camino</td>\n",
       "      <td>Alejandra</td>\n",
       "      <td>(91) 745 6555</td>\n",
       "      <td>Gran Vía, 1</td>\n",
       "      <td></td>\n",
       "      <td>Madrid</td>\n",
       "      <td></td>\n",
       "      <td>28001</td>\n",
       "      <td>Spain</td>\n",
       "      <td></td>\n",
       "      <td>0.00</td>\n",
       "      <td>0.0</td>\n",
       "    </tr>\n",
       "    <tr>\n",
       "      <th>2</th>\n",
       "      <td>344</td>\n",
       "      <td>CAF Imports</td>\n",
       "      <td>Fernandez</td>\n",
       "      <td>Jesus</td>\n",
       "      <td>+34 913 728 555</td>\n",
       "      <td>Merchants House</td>\n",
       "      <td>27-30 Merchant's Quay</td>\n",
       "      <td>Madrid</td>\n",
       "      <td></td>\n",
       "      <td>28023</td>\n",
       "      <td>Spain</td>\n",
       "      <td>1702</td>\n",
       "      <td>59600.00</td>\n",
       "      <td>59600.0</td>\n",
       "    </tr>\n",
       "    <tr>\n",
       "      <th>3</th>\n",
       "      <td>362</td>\n",
       "      <td>Gifts4AllAges.com</td>\n",
       "      <td>Yoshido</td>\n",
       "      <td>Juri</td>\n",
       "      <td>6175559555</td>\n",
       "      <td>8616 Spinnaker Dr.</td>\n",
       "      <td></td>\n",
       "      <td>Boston</td>\n",
       "      <td>MA</td>\n",
       "      <td>51003</td>\n",
       "      <td>USA</td>\n",
       "      <td>1216</td>\n",
       "      <td>41900.00</td>\n",
       "      <td>41900.0</td>\n",
       "    </tr>\n",
       "    <tr>\n",
       "      <th>4</th>\n",
       "      <td>458</td>\n",
       "      <td>Corrida Auto Replicas, Ltd</td>\n",
       "      <td>Sommer</td>\n",
       "      <td>Martín</td>\n",
       "      <td>(91) 555 22 82</td>\n",
       "      <td>C/ Araquil, 67</td>\n",
       "      <td></td>\n",
       "      <td>Madrid</td>\n",
       "      <td></td>\n",
       "      <td>28023</td>\n",
       "      <td>Spain</td>\n",
       "      <td>1702</td>\n",
       "      <td>104600.00</td>\n",
       "      <td>104600.0</td>\n",
       "    </tr>\n",
       "    <tr>\n",
       "      <th>5</th>\n",
       "      <td>465</td>\n",
       "      <td>Anton Designs, Ltd.</td>\n",
       "      <td>Anton</td>\n",
       "      <td>Carmen</td>\n",
       "      <td>+34 913 728555</td>\n",
       "      <td>c/ Gobelas, 19-1 Urb. La Florida</td>\n",
       "      <td></td>\n",
       "      <td>Madrid</td>\n",
       "      <td></td>\n",
       "      <td>28023</td>\n",
       "      <td>Spain</td>\n",
       "      <td></td>\n",
       "      <td>0.00</td>\n",
       "      <td>0.0</td>\n",
       "    </tr>\n",
       "    <tr>\n",
       "      <th>6</th>\n",
       "      <td>495</td>\n",
       "      <td>Diecast Collectables</td>\n",
       "      <td>Franco</td>\n",
       "      <td>Valarie</td>\n",
       "      <td>6175552555</td>\n",
       "      <td>6251 Ingle Ln.</td>\n",
       "      <td></td>\n",
       "      <td>Boston</td>\n",
       "      <td>MA</td>\n",
       "      <td>51003</td>\n",
       "      <td>USA</td>\n",
       "      <td>1188</td>\n",
       "      <td>85100.00</td>\n",
       "      <td>85100.0</td>\n",
       "    </tr>\n",
       "  </tbody>\n",
       "</table>\n",
       "</div>"
      ],
      "text/plain": [
       "  customerNumber                customerName contactLastName contactFirstName  \\\n",
       "0            141      Euro+ Shopping Channel          Freyre           Diego    \n",
       "1            237               ANG Resellers          Camino       Alejandra    \n",
       "2            344                 CAF Imports       Fernandez            Jesus   \n",
       "3            362           Gifts4AllAges.com         Yoshido             Juri   \n",
       "4            458  Corrida Auto Replicas, Ltd          Sommer          Martín    \n",
       "5            465         Anton Designs, Ltd.           Anton           Carmen   \n",
       "6            495        Diecast Collectables          Franco          Valarie   \n",
       "\n",
       "             phone                      addressLine1           addressLine2  \\\n",
       "0   (91) 555 94 44                C/ Moralzarzal, 86                          \n",
       "1    (91) 745 6555                       Gran Vía, 1                          \n",
       "2  +34 913 728 555                   Merchants House  27-30 Merchant's Quay   \n",
       "3       6175559555                8616 Spinnaker Dr.                          \n",
       "4   (91) 555 22 82                    C/ Araquil, 67                          \n",
       "5   +34 913 728555  c/ Gobelas, 19-1 Urb. La Florida                          \n",
       "6       6175552555                    6251 Ingle Ln.                          \n",
       "\n",
       "     city state postalCode country salesRepEmployeeNumber creditLimit  \\\n",
       "0  Madrid            28034   Spain                   1370   227600.00   \n",
       "1  Madrid            28001   Spain                               0.00   \n",
       "2  Madrid            28023   Spain                   1702    59600.00   \n",
       "3  Boston    MA      51003     USA                   1216    41900.00   \n",
       "4  Madrid            28023   Spain                   1702   104600.00   \n",
       "5  Madrid            28023   Spain                               0.00   \n",
       "6  Boston    MA      51003     USA                   1188    85100.00   \n",
       "\n",
       "   creditLimitNumeric  \n",
       "0            227600.0  \n",
       "1                 0.0  \n",
       "2             59600.0  \n",
       "3             41900.0  \n",
       "4            104600.0  \n",
       "5                 0.0  \n",
       "6             85100.0  "
      ]
     },
     "execution_count": 18,
     "metadata": {},
     "output_type": "execute_result"
    }
   ],
   "source": [
    "df = pd.read_sql(\"\"\"SELECT * FROM customers WHERE city = 'Boston' OR city = 'Madrid' \"\"\", conn)\n",
    "df"
   ]
  },
  {
   "cell_type": "markdown",
   "metadata": {
    "id": "T1kye84d1dei"
   },
   "source": [
    "3. Customers  with a creditLimit greater than 50,000"
   ]
  },
  {
   "cell_type": "code",
   "execution_count": 19,
   "metadata": {
    "id": "k8Zwamzi1fq8"
   },
   "outputs": [
    {
     "data": {
      "text/html": [
       "<div>\n",
       "<style scoped>\n",
       "    .dataframe tbody tr th:only-of-type {\n",
       "        vertical-align: middle;\n",
       "    }\n",
       "\n",
       "    .dataframe tbody tr th {\n",
       "        vertical-align: top;\n",
       "    }\n",
       "\n",
       "    .dataframe thead th {\n",
       "        text-align: right;\n",
       "    }\n",
       "</style>\n",
       "<table border=\"1\" class=\"dataframe\">\n",
       "  <thead>\n",
       "    <tr style=\"text-align: right;\">\n",
       "      <th></th>\n",
       "      <th>customerNumber</th>\n",
       "      <th>customerName</th>\n",
       "      <th>contactLastName</th>\n",
       "      <th>contactFirstName</th>\n",
       "      <th>phone</th>\n",
       "      <th>addressLine1</th>\n",
       "      <th>addressLine2</th>\n",
       "      <th>city</th>\n",
       "      <th>state</th>\n",
       "      <th>postalCode</th>\n",
       "      <th>country</th>\n",
       "      <th>salesRepEmployeeNumber</th>\n",
       "      <th>creditLimit</th>\n",
       "      <th>creditLimitNumeric</th>\n",
       "    </tr>\n",
       "  </thead>\n",
       "  <tbody>\n",
       "    <tr>\n",
       "      <th>0</th>\n",
       "      <td>103</td>\n",
       "      <td>Atelier graphique</td>\n",
       "      <td>Schmitt</td>\n",
       "      <td>Carine</td>\n",
       "      <td>40.32.2555</td>\n",
       "      <td>54, rue Royale</td>\n",
       "      <td></td>\n",
       "      <td>Nantes</td>\n",
       "      <td></td>\n",
       "      <td>44000</td>\n",
       "      <td>France</td>\n",
       "      <td>1370</td>\n",
       "      <td>21000.00</td>\n",
       "      <td>21000.0</td>\n",
       "    </tr>\n",
       "    <tr>\n",
       "      <th>1</th>\n",
       "      <td>112</td>\n",
       "      <td>Signal Gift Stores</td>\n",
       "      <td>King</td>\n",
       "      <td>Jean</td>\n",
       "      <td>7025551838</td>\n",
       "      <td>8489 Strong St.</td>\n",
       "      <td></td>\n",
       "      <td>Las Vegas</td>\n",
       "      <td>NV</td>\n",
       "      <td>83030</td>\n",
       "      <td>USA</td>\n",
       "      <td>1166</td>\n",
       "      <td>71800.00</td>\n",
       "      <td>71800.0</td>\n",
       "    </tr>\n",
       "    <tr>\n",
       "      <th>2</th>\n",
       "      <td>114</td>\n",
       "      <td>Australian Collectors, Co.</td>\n",
       "      <td>Ferguson</td>\n",
       "      <td>Peter</td>\n",
       "      <td>03 9520 4555</td>\n",
       "      <td>636 St Kilda Road</td>\n",
       "      <td>Level 3</td>\n",
       "      <td>Melbourne</td>\n",
       "      <td>Victoria</td>\n",
       "      <td>3004</td>\n",
       "      <td>Australia</td>\n",
       "      <td>1611</td>\n",
       "      <td>117300.00</td>\n",
       "      <td>117300.0</td>\n",
       "    </tr>\n",
       "    <tr>\n",
       "      <th>3</th>\n",
       "      <td>119</td>\n",
       "      <td>La Rochelle Gifts</td>\n",
       "      <td>Labrune</td>\n",
       "      <td>Janine</td>\n",
       "      <td>40.67.8555</td>\n",
       "      <td>67, rue des Cinquante Otages</td>\n",
       "      <td></td>\n",
       "      <td>Nantes</td>\n",
       "      <td></td>\n",
       "      <td>44000</td>\n",
       "      <td>France</td>\n",
       "      <td>1370</td>\n",
       "      <td>118200.00</td>\n",
       "      <td>118200.0</td>\n",
       "    </tr>\n",
       "    <tr>\n",
       "      <th>4</th>\n",
       "      <td>121</td>\n",
       "      <td>Baane Mini Imports</td>\n",
       "      <td>Bergulfsen</td>\n",
       "      <td>Jonas</td>\n",
       "      <td>07-98 9555</td>\n",
       "      <td>Erling Skakkes gate 78</td>\n",
       "      <td></td>\n",
       "      <td>Stavern</td>\n",
       "      <td></td>\n",
       "      <td>4110</td>\n",
       "      <td>Norway</td>\n",
       "      <td>1504</td>\n",
       "      <td>81700.00</td>\n",
       "      <td>81700.0</td>\n",
       "    </tr>\n",
       "    <tr>\n",
       "      <th>...</th>\n",
       "      <td>...</td>\n",
       "      <td>...</td>\n",
       "      <td>...</td>\n",
       "      <td>...</td>\n",
       "      <td>...</td>\n",
       "      <td>...</td>\n",
       "      <td>...</td>\n",
       "      <td>...</td>\n",
       "      <td>...</td>\n",
       "      <td>...</td>\n",
       "      <td>...</td>\n",
       "      <td>...</td>\n",
       "      <td>...</td>\n",
       "      <td>...</td>\n",
       "    </tr>\n",
       "    <tr>\n",
       "      <th>117</th>\n",
       "      <td>486</td>\n",
       "      <td>Motor Mint Distributors Inc.</td>\n",
       "      <td>Salazar</td>\n",
       "      <td>Rosa</td>\n",
       "      <td>2155559857</td>\n",
       "      <td>11328 Douglas Av.</td>\n",
       "      <td></td>\n",
       "      <td>Philadelphia</td>\n",
       "      <td>PA</td>\n",
       "      <td>71270</td>\n",
       "      <td>USA</td>\n",
       "      <td>1323</td>\n",
       "      <td>72600.00</td>\n",
       "      <td>72600.0</td>\n",
       "    </tr>\n",
       "    <tr>\n",
       "      <th>118</th>\n",
       "      <td>487</td>\n",
       "      <td>Signal Collectibles Ltd.</td>\n",
       "      <td>Taylor</td>\n",
       "      <td>Sue</td>\n",
       "      <td>4155554312</td>\n",
       "      <td>2793 Furth Circle</td>\n",
       "      <td></td>\n",
       "      <td>Brisbane</td>\n",
       "      <td>CA</td>\n",
       "      <td>94217</td>\n",
       "      <td>USA</td>\n",
       "      <td>1165</td>\n",
       "      <td>60300.00</td>\n",
       "      <td>60300.0</td>\n",
       "    </tr>\n",
       "    <tr>\n",
       "      <th>119</th>\n",
       "      <td>489</td>\n",
       "      <td>Double Decker Gift Stores, Ltd</td>\n",
       "      <td>Smith</td>\n",
       "      <td>Thomas</td>\n",
       "      <td>(171) 555-7555</td>\n",
       "      <td>120 Hanover Sq.</td>\n",
       "      <td></td>\n",
       "      <td>London</td>\n",
       "      <td></td>\n",
       "      <td>WA1 1DP</td>\n",
       "      <td>UK</td>\n",
       "      <td>1501</td>\n",
       "      <td>43300.00</td>\n",
       "      <td>43300.0</td>\n",
       "    </tr>\n",
       "    <tr>\n",
       "      <th>120</th>\n",
       "      <td>495</td>\n",
       "      <td>Diecast Collectables</td>\n",
       "      <td>Franco</td>\n",
       "      <td>Valarie</td>\n",
       "      <td>6175552555</td>\n",
       "      <td>6251 Ingle Ln.</td>\n",
       "      <td></td>\n",
       "      <td>Boston</td>\n",
       "      <td>MA</td>\n",
       "      <td>51003</td>\n",
       "      <td>USA</td>\n",
       "      <td>1188</td>\n",
       "      <td>85100.00</td>\n",
       "      <td>85100.0</td>\n",
       "    </tr>\n",
       "    <tr>\n",
       "      <th>121</th>\n",
       "      <td>496</td>\n",
       "      <td>Kelly's Gift Shop</td>\n",
       "      <td>Snowden</td>\n",
       "      <td>Tony</td>\n",
       "      <td>+64 9 5555500</td>\n",
       "      <td>Arenales 1938 3'A'</td>\n",
       "      <td></td>\n",
       "      <td>Auckland</td>\n",
       "      <td></td>\n",
       "      <td></td>\n",
       "      <td>New Zealand</td>\n",
       "      <td>1612</td>\n",
       "      <td>110000.00</td>\n",
       "      <td>110000.0</td>\n",
       "    </tr>\n",
       "  </tbody>\n",
       "</table>\n",
       "<p>122 rows × 14 columns</p>\n",
       "</div>"
      ],
      "text/plain": [
       "    customerNumber                    customerName contactLastName  \\\n",
       "0              103               Atelier graphique         Schmitt   \n",
       "1              112              Signal Gift Stores            King   \n",
       "2              114      Australian Collectors, Co.        Ferguson   \n",
       "3              119               La Rochelle Gifts         Labrune   \n",
       "4              121              Baane Mini Imports      Bergulfsen   \n",
       "..             ...                             ...             ...   \n",
       "117            486    Motor Mint Distributors Inc.         Salazar   \n",
       "118            487        Signal Collectibles Ltd.          Taylor   \n",
       "119            489  Double Decker Gift Stores, Ltd           Smith   \n",
       "120            495            Diecast Collectables          Franco   \n",
       "121            496               Kelly's Gift Shop         Snowden   \n",
       "\n",
       "    contactFirstName           phone                  addressLine1  \\\n",
       "0            Carine       40.32.2555                54, rue Royale   \n",
       "1               Jean      7025551838               8489 Strong St.   \n",
       "2              Peter    03 9520 4555             636 St Kilda Road   \n",
       "3            Janine       40.67.8555  67, rue des Cinquante Otages   \n",
       "4             Jonas       07-98 9555        Erling Skakkes gate 78   \n",
       "..               ...             ...                           ...   \n",
       "117             Rosa      2155559857             11328 Douglas Av.   \n",
       "118              Sue      4155554312             2793 Furth Circle   \n",
       "119          Thomas   (171) 555-7555               120 Hanover Sq.   \n",
       "120          Valarie      6175552555                6251 Ingle Ln.   \n",
       "121             Tony   +64 9 5555500            Arenales 1938 3'A'   \n",
       "\n",
       "    addressLine2          city     state postalCode      country  \\\n",
       "0                       Nantes                44000       France   \n",
       "1                    Las Vegas        NV      83030          USA   \n",
       "2        Level 3     Melbourne  Victoria       3004    Australia   \n",
       "3                       Nantes                44000       France   \n",
       "4                      Stavern                 4110       Norway   \n",
       "..           ...           ...       ...        ...          ...   \n",
       "117               Philadelphia        PA      71270          USA   \n",
       "118                   Brisbane        CA      94217          USA   \n",
       "119                     London              WA1 1DP           UK   \n",
       "120                     Boston        MA      51003          USA   \n",
       "121                 Auckland                         New Zealand   \n",
       "\n",
       "    salesRepEmployeeNumber creditLimit  creditLimitNumeric  \n",
       "0                     1370    21000.00             21000.0  \n",
       "1                     1166    71800.00             71800.0  \n",
       "2                     1611   117300.00            117300.0  \n",
       "3                     1370   118200.00            118200.0  \n",
       "4                     1504    81700.00             81700.0  \n",
       "..                     ...         ...                 ...  \n",
       "117                   1323    72600.00             72600.0  \n",
       "118                   1165    60300.00             60300.0  \n",
       "119                   1501    43300.00             43300.0  \n",
       "120                   1188    85100.00             85100.0  \n",
       "121                   1612   110000.00            110000.0  \n",
       "\n",
       "[122 rows x 14 columns]"
      ]
     },
     "execution_count": 19,
     "metadata": {},
     "output_type": "execute_result"
    }
   ],
   "source": [
    "df = pd.read_sql(\"\"\"SELECT * FROM customers WHERE creditLimit > 50000 \"\"\", conn)\n",
    "df"
   ]
  },
  {
   "cell_type": "markdown",
   "metadata": {
    "id": "3L3vivR-1oNK"
   },
   "source": [
    "4. find customers who have a creditLImit greater than 50,000 and work in the 'Sales' department also who have either a salary greater than 50,000 or work in the 'Sales' department"
   ]
  },
  {
   "cell_type": "markdown",
   "metadata": {
    "id": "GvynDjx71qe-"
   },
   "source": [
    "**The ORDER BY and LIMIT Clauses**\n",
    "\n",
    "* `ORDER BY` is used to sort the results.\n",
    "* `LIMIT` is used to restrict the number of rows returned.\n",
    "* Together, they allow you to fetch a specific subset of ordered data, which is helpful for getting top results or paginating through data.\n",
    "\n",
    "*ORDER BY Syntax* \n",
    "\n",
    "`SELECT column1, column2, ...\n",
    "FROM table_name\n",
    "ORDER BY column1 [ASC|DESC], column2 [ASC|DESC], ...;`\n",
    "\n",
    "`ASC`: Sorts in ascending order (from lowest to highest),**which is the default.**\n",
    "`DESC`: Sorts in descending order (from highest to lowest)\n",
    "\n",
    "*LIMIT clause Syntax*\n",
    "\n",
    "`SELECT column1, column2, ...\n",
    "FROM table_name\n",
    "LIMIT number_of_rows;`\n",
    "\n",
    "*ORDER BY and LIMIT Clauses syntax*\n",
    "`SELECT column1, column2, ...\n",
    "FROM table_name\n",
    "ORDER BY column1 [ASC|DESC], column2 [ASC|DESC], ...\n",
    "LIMIT number_of_rows;`\n",
    "\n",
    "\n"
   ]
  },
  {
   "cell_type": "markdown",
   "metadata": {
    "id": "t1BbiEW118Xm"
   },
   "source": [
    "**Quiz:** find the number, name, city, and credit limit for all customers located in Boston or Madrid with a credit limit above 50,000.00, sorting by credit limit and showing only the top 15 results"
   ]
  },
  {
   "cell_type": "code",
   "execution_count": 20,
   "metadata": {
    "id": "T12vt4012LZI",
    "scrolled": true
   },
   "outputs": [
    {
     "data": {
      "text/html": [
       "<div>\n",
       "<style scoped>\n",
       "    .dataframe tbody tr th:only-of-type {\n",
       "        vertical-align: middle;\n",
       "    }\n",
       "\n",
       "    .dataframe tbody tr th {\n",
       "        vertical-align: top;\n",
       "    }\n",
       "\n",
       "    .dataframe thead th {\n",
       "        text-align: right;\n",
       "    }\n",
       "</style>\n",
       "<table border=\"1\" class=\"dataframe\">\n",
       "  <thead>\n",
       "    <tr style=\"text-align: right;\">\n",
       "      <th></th>\n",
       "      <th>customerNumber</th>\n",
       "      <th>customerName</th>\n",
       "      <th>city</th>\n",
       "      <th>creditLimit</th>\n",
       "    </tr>\n",
       "  </thead>\n",
       "  <tbody>\n",
       "    <tr>\n",
       "      <th>0</th>\n",
       "      <td>495</td>\n",
       "      <td>Diecast Collectables</td>\n",
       "      <td>Boston</td>\n",
       "      <td>85100.00</td>\n",
       "    </tr>\n",
       "    <tr>\n",
       "      <th>1</th>\n",
       "      <td>344</td>\n",
       "      <td>CAF Imports</td>\n",
       "      <td>Madrid</td>\n",
       "      <td>59600.00</td>\n",
       "    </tr>\n",
       "    <tr>\n",
       "      <th>2</th>\n",
       "      <td>362</td>\n",
       "      <td>Gifts4AllAges.com</td>\n",
       "      <td>Boston</td>\n",
       "      <td>41900.00</td>\n",
       "    </tr>\n",
       "    <tr>\n",
       "      <th>3</th>\n",
       "      <td>141</td>\n",
       "      <td>Euro+ Shopping Channel</td>\n",
       "      <td>Madrid</td>\n",
       "      <td>227600.00</td>\n",
       "    </tr>\n",
       "    <tr>\n",
       "      <th>4</th>\n",
       "      <td>458</td>\n",
       "      <td>Corrida Auto Replicas, Ltd</td>\n",
       "      <td>Madrid</td>\n",
       "      <td>104600.00</td>\n",
       "    </tr>\n",
       "    <tr>\n",
       "      <th>5</th>\n",
       "      <td>237</td>\n",
       "      <td>ANG Resellers</td>\n",
       "      <td>Madrid</td>\n",
       "      <td>0.00</td>\n",
       "    </tr>\n",
       "    <tr>\n",
       "      <th>6</th>\n",
       "      <td>465</td>\n",
       "      <td>Anton Designs, Ltd.</td>\n",
       "      <td>Madrid</td>\n",
       "      <td>0.00</td>\n",
       "    </tr>\n",
       "  </tbody>\n",
       "</table>\n",
       "</div>"
      ],
      "text/plain": [
       "  customerNumber                customerName    city creditLimit\n",
       "0            495        Diecast Collectables  Boston    85100.00\n",
       "1            344                 CAF Imports  Madrid    59600.00\n",
       "2            362           Gifts4AllAges.com  Boston    41900.00\n",
       "3            141      Euro+ Shopping Channel  Madrid   227600.00\n",
       "4            458  Corrida Auto Replicas, Ltd  Madrid   104600.00\n",
       "5            237               ANG Resellers  Madrid        0.00\n",
       "6            465         Anton Designs, Ltd.  Madrid        0.00"
      ]
     },
     "execution_count": 20,
     "metadata": {},
     "output_type": "execute_result"
    }
   ],
   "source": [
    "quiz =  \"\"\"\n",
    "SELECT customerNumber, customerName, city, creditLimit\n",
    "FROM customers\n",
    "WHERE (city = 'Boston' OR city = 'Madrid') AND (CreditLimit > 50000)\n",
    "ORDER BY CreditLimit DESC\n",
    "LIMIT 15\n",
    ";\n",
    "\"\"\"\n",
    "df = pd.read_sql(quiz, conn)\n",
    "df"
   ]
  },
  {
   "cell_type": "markdown",
   "metadata": {
    "id": "UWfpSLC72UNi"
   },
   "source": [
    "The output of this query doesn't seem to respect our credit limit criterion. There are results here where the credit limit is not over 50,000.00. A little investigation shows that this is because the number is actually stored as a string!"
   ]
  },
  {
   "cell_type": "code",
   "execution_count": 21,
   "metadata": {
    "id": "48PDuxJV2X1a"
   },
   "outputs": [
    {
     "data": {
      "text/plain": [
       "'41900.00'"
      ]
     },
     "execution_count": 21,
     "metadata": {},
     "output_type": "execute_result"
    }
   ],
   "source": [
    "df['creditLimit'].iloc[2]"
   ]
  },
  {
   "cell_type": "code",
   "execution_count": 22,
   "metadata": {},
   "outputs": [
    {
     "name": "stdout",
     "output_type": "stream",
     "text": [
      "object\n"
     ]
    }
   ],
   "source": [
    "print(df[\"creditLimit\"].dtype)"
   ]
  },
  {
   "cell_type": "markdown",
   "metadata": {},
   "source": [
    "**PRAGMA**\n",
    "\n",
    "One additional technique we can use to understand the schema of a SQLITE table is the PRAGMA table_info command.\n",
    "[SQLITE PRAGMA](https://www.sqlite.org/pragma.html#pragma_table_info)"
   ]
  },
  {
   "cell_type": "markdown",
   "metadata": {},
   "source": [
    "* `PRAGMA` commands allow you to configure database-level settings and retrieve metadata.\n",
    "* Unlike standard SQL, `PRAGMA` is specific to SQLite and provides useful functions for database optimization, schema exploration, and configuration.\n",
    "* Most `PRAGMA` commands do not alter the database schema or data directly but control how the database engine operates.\n",
    "\n",
    "*syntax*\n",
    "\n",
    "`PRAGMA table_info(table_name);`"
   ]
  },
  {
   "cell_type": "code",
   "execution_count": 23,
   "metadata": {},
   "outputs": [
    {
     "data": {
      "text/html": [
       "<div>\n",
       "<style scoped>\n",
       "    .dataframe tbody tr th:only-of-type {\n",
       "        vertical-align: middle;\n",
       "    }\n",
       "\n",
       "    .dataframe tbody tr th {\n",
       "        vertical-align: top;\n",
       "    }\n",
       "\n",
       "    .dataframe thead th {\n",
       "        text-align: right;\n",
       "    }\n",
       "</style>\n",
       "<table border=\"1\" class=\"dataframe\">\n",
       "  <thead>\n",
       "    <tr style=\"text-align: right;\">\n",
       "      <th></th>\n",
       "      <th>name</th>\n",
       "      <th>type</th>\n",
       "      <th>notnull</th>\n",
       "      <th>dflt_value</th>\n",
       "      <th>pk</th>\n",
       "    </tr>\n",
       "    <tr>\n",
       "      <th>cid</th>\n",
       "      <th></th>\n",
       "      <th></th>\n",
       "      <th></th>\n",
       "      <th></th>\n",
       "      <th></th>\n",
       "    </tr>\n",
       "  </thead>\n",
       "  <tbody>\n",
       "    <tr>\n",
       "      <th>0</th>\n",
       "      <td>customerNumber</td>\n",
       "      <td></td>\n",
       "      <td>0</td>\n",
       "      <td>None</td>\n",
       "      <td>0</td>\n",
       "    </tr>\n",
       "    <tr>\n",
       "      <th>1</th>\n",
       "      <td>customerName</td>\n",
       "      <td></td>\n",
       "      <td>0</td>\n",
       "      <td>None</td>\n",
       "      <td>0</td>\n",
       "    </tr>\n",
       "    <tr>\n",
       "      <th>2</th>\n",
       "      <td>contactLastName</td>\n",
       "      <td></td>\n",
       "      <td>0</td>\n",
       "      <td>None</td>\n",
       "      <td>0</td>\n",
       "    </tr>\n",
       "    <tr>\n",
       "      <th>3</th>\n",
       "      <td>contactFirstName</td>\n",
       "      <td></td>\n",
       "      <td>0</td>\n",
       "      <td>None</td>\n",
       "      <td>0</td>\n",
       "    </tr>\n",
       "    <tr>\n",
       "      <th>4</th>\n",
       "      <td>phone</td>\n",
       "      <td></td>\n",
       "      <td>0</td>\n",
       "      <td>None</td>\n",
       "      <td>0</td>\n",
       "    </tr>\n",
       "    <tr>\n",
       "      <th>5</th>\n",
       "      <td>addressLine1</td>\n",
       "      <td></td>\n",
       "      <td>0</td>\n",
       "      <td>None</td>\n",
       "      <td>0</td>\n",
       "    </tr>\n",
       "    <tr>\n",
       "      <th>6</th>\n",
       "      <td>addressLine2</td>\n",
       "      <td></td>\n",
       "      <td>0</td>\n",
       "      <td>None</td>\n",
       "      <td>0</td>\n",
       "    </tr>\n",
       "    <tr>\n",
       "      <th>7</th>\n",
       "      <td>city</td>\n",
       "      <td></td>\n",
       "      <td>0</td>\n",
       "      <td>None</td>\n",
       "      <td>0</td>\n",
       "    </tr>\n",
       "    <tr>\n",
       "      <th>8</th>\n",
       "      <td>state</td>\n",
       "      <td></td>\n",
       "      <td>0</td>\n",
       "      <td>None</td>\n",
       "      <td>0</td>\n",
       "    </tr>\n",
       "    <tr>\n",
       "      <th>9</th>\n",
       "      <td>postalCode</td>\n",
       "      <td></td>\n",
       "      <td>0</td>\n",
       "      <td>None</td>\n",
       "      <td>0</td>\n",
       "    </tr>\n",
       "    <tr>\n",
       "      <th>10</th>\n",
       "      <td>country</td>\n",
       "      <td></td>\n",
       "      <td>0</td>\n",
       "      <td>None</td>\n",
       "      <td>0</td>\n",
       "    </tr>\n",
       "    <tr>\n",
       "      <th>11</th>\n",
       "      <td>salesRepEmployeeNumber</td>\n",
       "      <td></td>\n",
       "      <td>0</td>\n",
       "      <td>None</td>\n",
       "      <td>0</td>\n",
       "    </tr>\n",
       "    <tr>\n",
       "      <th>12</th>\n",
       "      <td>creditLimit</td>\n",
       "      <td></td>\n",
       "      <td>0</td>\n",
       "      <td>None</td>\n",
       "      <td>0</td>\n",
       "    </tr>\n",
       "    <tr>\n",
       "      <th>13</th>\n",
       "      <td>creditLimitNumeric</td>\n",
       "      <td>REAL</td>\n",
       "      <td>0</td>\n",
       "      <td>None</td>\n",
       "      <td>0</td>\n",
       "    </tr>\n",
       "  </tbody>\n",
       "</table>\n",
       "</div>"
      ],
      "text/plain": [
       "                       name  type  notnull dflt_value  pk\n",
       "cid                                                      \n",
       "0            customerNumber              0       None   0\n",
       "1              customerName              0       None   0\n",
       "2           contactLastName              0       None   0\n",
       "3          contactFirstName              0       None   0\n",
       "4                     phone              0       None   0\n",
       "5              addressLine1              0       None   0\n",
       "6              addressLine2              0       None   0\n",
       "7                      city              0       None   0\n",
       "8                     state              0       None   0\n",
       "9                postalCode              0       None   0\n",
       "10                  country              0       None   0\n",
       "11   salesRepEmployeeNumber              0       None   0\n",
       "12              creditLimit              0       None   0\n",
       "13       creditLimitNumeric  REAL        0       None   0"
      ]
     },
     "execution_count": 23,
     "metadata": {},
     "output_type": "execute_result"
    }
   ],
   "source": [
    "# Import data from an SQL query and load it as a DataFrame\n",
    "df = pd.read_sql(\n",
    "    \"\"\"PRAGMA table_info(customers)\"\"\",  # SQL command to retrieve schema details for the 'customers' table\n",
    "    conn,                                # Database connection object to execute the query\n",
    "    index_col=\"cid\"                      # Set the 'cid' column as the index of the resulting DataFrame\n",
    ")\n",
    "\n",
    "# Display the DataFrame to view the schema details of 'customers'\n",
    "df\n"
   ]
  },
  {
   "cell_type": "markdown",
   "metadata": {},
   "source": [
    "none of the columns actually have a data type specified (the `type` column is empty) and none of the columns is marked as the primary key (`pk` column). SQLite is defaulting to treating them like strings — even creditLimit, which we clearly want to treat as a number — because the schema doesn't specify their types."
   ]
  },
  {
   "cell_type": "markdown",
   "metadata": {},
   "source": [
    "**Database Administration**\n",
    "\n",
    "In this case, you control the database since it’s just a file on your computer. You can perform some database administration and create a properly-typed copy of creditLimit, called creditLimitNumeric, so the complex query above will work.\n",
    "\n",
    "Since all our queries so far have been SELECT statements, no changes have been made. It’s important to keep track of conn attributes when performing any database administration."
   ]
  },
  {
   "cell_type": "code",
   "execution_count": 24,
   "metadata": {},
   "outputs": [
    {
     "name": "stdout",
     "output_type": "stream",
     "text": [
      "uncommitted changes: False\n",
      "total changes: 0\n"
     ]
    }
   ],
   "source": [
    "print(\"uncommitted changes:\", conn.in_transaction)\n",
    "print(\"total changes:\", conn.total_changes)"
   ]
  },
  {
   "cell_type": "markdown",
   "metadata": {},
   "source": [
    "write a query that will alter the database structure (adding a new column `creditLimitNumeric`)"
   ]
  },
  {
   "cell_type": "code",
   "execution_count": 26,
   "metadata": {},
   "outputs": [
    {
     "data": {
      "text/plain": [
       "<sqlite3.Cursor at 0x15a634d48f0>"
      ]
     },
     "execution_count": 26,
     "metadata": {},
     "output_type": "execute_result"
    }
   ],
   "source": [
    "# adding a new column creditLimitNumeric\n",
    "add_column =\"\"\"\n",
    "ALTER TABLE customers\n",
    "ADD COLUMN creditLimitNum REAL;\n",
    "\"\"\"\n",
    "cur.execute(add_column)"
   ]
  },
  {
   "cell_type": "code",
   "execution_count": 27,
   "metadata": {},
   "outputs": [
    {
     "data": {
      "text/plain": [
       "<sqlite3.Cursor at 0x15a634d48f0>"
      ]
     },
     "execution_count": 27,
     "metadata": {},
     "output_type": "execute_result"
    }
   ],
   "source": [
    "# copy all of the creditLimit values to the new creditLimitNumeric column\n",
    "fill_values = \"\"\"\n",
    "UPDATE customers\n",
    "SET creditLimitNum = creditLimit\n",
    ";\n",
    "\"\"\"\n",
    "cur.execute(fill_values)"
   ]
  },
  {
   "cell_type": "code",
   "execution_count": 28,
   "metadata": {},
   "outputs": [
    {
     "name": "stdout",
     "output_type": "stream",
     "text": [
      "Uncommitted changes: True\n",
      "Total changes: 122\n"
     ]
    }
   ],
   "source": [
    "# check the attribute of conn\n",
    "print(\"Uncommitted changes:\", conn.in_transaction)\n",
    "print(\"Total changes:\", conn.total_changes)"
   ]
  },
  {
   "cell_type": "code",
   "execution_count": 29,
   "metadata": {},
   "outputs": [],
   "source": [
    "# commit changes\n",
    "conn.commit()"
   ]
  },
  {
   "cell_type": "code",
   "execution_count": 30,
   "metadata": {},
   "outputs": [
    {
     "name": "stdout",
     "output_type": "stream",
     "text": [
      "Uncommitted changes: False\n",
      "Total changes: 122\n"
     ]
    }
   ],
   "source": [
    "# check the attribute of conn\n",
    "print(\"Uncommitted changes:\", conn.in_transaction)\n",
    "print(\"Total changes:\", conn.total_changes)"
   ]
  },
  {
   "cell_type": "code",
   "execution_count": 31,
   "metadata": {},
   "outputs": [
    {
     "data": {
      "text/html": [
       "<div>\n",
       "<style scoped>\n",
       "    .dataframe tbody tr th:only-of-type {\n",
       "        vertical-align: middle;\n",
       "    }\n",
       "\n",
       "    .dataframe tbody tr th {\n",
       "        vertical-align: top;\n",
       "    }\n",
       "\n",
       "    .dataframe thead th {\n",
       "        text-align: right;\n",
       "    }\n",
       "</style>\n",
       "<table border=\"1\" class=\"dataframe\">\n",
       "  <thead>\n",
       "    <tr style=\"text-align: right;\">\n",
       "      <th></th>\n",
       "      <th>name</th>\n",
       "      <th>type</th>\n",
       "      <th>notnull</th>\n",
       "      <th>dflt_value</th>\n",
       "      <th>pk</th>\n",
       "    </tr>\n",
       "    <tr>\n",
       "      <th>cid</th>\n",
       "      <th></th>\n",
       "      <th></th>\n",
       "      <th></th>\n",
       "      <th></th>\n",
       "      <th></th>\n",
       "    </tr>\n",
       "  </thead>\n",
       "  <tbody>\n",
       "    <tr>\n",
       "      <th>0</th>\n",
       "      <td>customerNumber</td>\n",
       "      <td></td>\n",
       "      <td>0</td>\n",
       "      <td>None</td>\n",
       "      <td>0</td>\n",
       "    </tr>\n",
       "    <tr>\n",
       "      <th>1</th>\n",
       "      <td>customerName</td>\n",
       "      <td></td>\n",
       "      <td>0</td>\n",
       "      <td>None</td>\n",
       "      <td>0</td>\n",
       "    </tr>\n",
       "    <tr>\n",
       "      <th>2</th>\n",
       "      <td>contactLastName</td>\n",
       "      <td></td>\n",
       "      <td>0</td>\n",
       "      <td>None</td>\n",
       "      <td>0</td>\n",
       "    </tr>\n",
       "    <tr>\n",
       "      <th>3</th>\n",
       "      <td>contactFirstName</td>\n",
       "      <td></td>\n",
       "      <td>0</td>\n",
       "      <td>None</td>\n",
       "      <td>0</td>\n",
       "    </tr>\n",
       "    <tr>\n",
       "      <th>4</th>\n",
       "      <td>phone</td>\n",
       "      <td></td>\n",
       "      <td>0</td>\n",
       "      <td>None</td>\n",
       "      <td>0</td>\n",
       "    </tr>\n",
       "    <tr>\n",
       "      <th>5</th>\n",
       "      <td>addressLine1</td>\n",
       "      <td></td>\n",
       "      <td>0</td>\n",
       "      <td>None</td>\n",
       "      <td>0</td>\n",
       "    </tr>\n",
       "    <tr>\n",
       "      <th>6</th>\n",
       "      <td>addressLine2</td>\n",
       "      <td></td>\n",
       "      <td>0</td>\n",
       "      <td>None</td>\n",
       "      <td>0</td>\n",
       "    </tr>\n",
       "    <tr>\n",
       "      <th>7</th>\n",
       "      <td>city</td>\n",
       "      <td></td>\n",
       "      <td>0</td>\n",
       "      <td>None</td>\n",
       "      <td>0</td>\n",
       "    </tr>\n",
       "    <tr>\n",
       "      <th>8</th>\n",
       "      <td>state</td>\n",
       "      <td></td>\n",
       "      <td>0</td>\n",
       "      <td>None</td>\n",
       "      <td>0</td>\n",
       "    </tr>\n",
       "    <tr>\n",
       "      <th>9</th>\n",
       "      <td>postalCode</td>\n",
       "      <td></td>\n",
       "      <td>0</td>\n",
       "      <td>None</td>\n",
       "      <td>0</td>\n",
       "    </tr>\n",
       "    <tr>\n",
       "      <th>10</th>\n",
       "      <td>country</td>\n",
       "      <td></td>\n",
       "      <td>0</td>\n",
       "      <td>None</td>\n",
       "      <td>0</td>\n",
       "    </tr>\n",
       "    <tr>\n",
       "      <th>11</th>\n",
       "      <td>salesRepEmployeeNumber</td>\n",
       "      <td></td>\n",
       "      <td>0</td>\n",
       "      <td>None</td>\n",
       "      <td>0</td>\n",
       "    </tr>\n",
       "    <tr>\n",
       "      <th>12</th>\n",
       "      <td>creditLimit</td>\n",
       "      <td></td>\n",
       "      <td>0</td>\n",
       "      <td>None</td>\n",
       "      <td>0</td>\n",
       "    </tr>\n",
       "    <tr>\n",
       "      <th>13</th>\n",
       "      <td>creditLimitNumeric</td>\n",
       "      <td>REAL</td>\n",
       "      <td>0</td>\n",
       "      <td>None</td>\n",
       "      <td>0</td>\n",
       "    </tr>\n",
       "    <tr>\n",
       "      <th>14</th>\n",
       "      <td>creditLimitNum</td>\n",
       "      <td>REAL</td>\n",
       "      <td>0</td>\n",
       "      <td>None</td>\n",
       "      <td>0</td>\n",
       "    </tr>\n",
       "  </tbody>\n",
       "</table>\n",
       "</div>"
      ],
      "text/plain": [
       "                       name  type  notnull dflt_value  pk\n",
       "cid                                                      \n",
       "0            customerNumber              0       None   0\n",
       "1              customerName              0       None   0\n",
       "2           contactLastName              0       None   0\n",
       "3          contactFirstName              0       None   0\n",
       "4                     phone              0       None   0\n",
       "5              addressLine1              0       None   0\n",
       "6              addressLine2              0       None   0\n",
       "7                      city              0       None   0\n",
       "8                     state              0       None   0\n",
       "9                postalCode              0       None   0\n",
       "10                  country              0       None   0\n",
       "11   salesRepEmployeeNumber              0       None   0\n",
       "12              creditLimit              0       None   0\n",
       "13       creditLimitNumeric  REAL        0       None   0\n",
       "14           creditLimitNum  REAL        0       None   0"
      ]
     },
     "execution_count": 31,
     "metadata": {},
     "output_type": "execute_result"
    }
   ],
   "source": [
    "# looking at table info again\n",
    "pd.read_sql(\"\"\"PRAGMA table_info(customers)\"\"\", conn, index_col=\"cid\")"
   ]
  },
  {
   "cell_type": "code",
   "execution_count": 32,
   "metadata": {},
   "outputs": [
    {
     "data": {
      "text/html": [
       "<div>\n",
       "<style scoped>\n",
       "    .dataframe tbody tr th:only-of-type {\n",
       "        vertical-align: middle;\n",
       "    }\n",
       "\n",
       "    .dataframe tbody tr th {\n",
       "        vertical-align: top;\n",
       "    }\n",
       "\n",
       "    .dataframe thead th {\n",
       "        text-align: right;\n",
       "    }\n",
       "</style>\n",
       "<table border=\"1\" class=\"dataframe\">\n",
       "  <thead>\n",
       "    <tr style=\"text-align: right;\">\n",
       "      <th></th>\n",
       "      <th>customerNumber</th>\n",
       "      <th>customerName</th>\n",
       "      <th>city</th>\n",
       "      <th>creditLimitNum</th>\n",
       "    </tr>\n",
       "  </thead>\n",
       "  <tbody>\n",
       "    <tr>\n",
       "      <th>0</th>\n",
       "      <td>495</td>\n",
       "      <td>Diecast Collectables</td>\n",
       "      <td>Boston</td>\n",
       "      <td>85100.0</td>\n",
       "    </tr>\n",
       "    <tr>\n",
       "      <th>1</th>\n",
       "      <td>344</td>\n",
       "      <td>CAF Imports</td>\n",
       "      <td>Madrid</td>\n",
       "      <td>59600.0</td>\n",
       "    </tr>\n",
       "    <tr>\n",
       "      <th>2</th>\n",
       "      <td>141</td>\n",
       "      <td>Euro+ Shopping Channel</td>\n",
       "      <td>Madrid</td>\n",
       "      <td>227600.0</td>\n",
       "    </tr>\n",
       "    <tr>\n",
       "      <th>3</th>\n",
       "      <td>458</td>\n",
       "      <td>Corrida Auto Replicas, Ltd</td>\n",
       "      <td>Madrid</td>\n",
       "      <td>104600.0</td>\n",
       "    </tr>\n",
       "  </tbody>\n",
       "</table>\n",
       "</div>"
      ],
      "text/plain": [
       "  customerNumber                customerName    city  creditLimitNum\n",
       "0            495        Diecast Collectables  Boston         85100.0\n",
       "1            344                 CAF Imports  Madrid         59600.0\n",
       "2            141      Euro+ Shopping Channel  Madrid        227600.0\n",
       "3            458  Corrida Auto Replicas, Ltd  Madrid        104600.0"
      ]
     },
     "execution_count": 32,
     "metadata": {},
     "output_type": "execute_result"
    }
   ],
   "source": [
    "# trying the quiz again now using creditLimitNumeric \n",
    "quiz =  \"\"\"\n",
    "SELECT customerNumber, customerName, city, creditLimitNum\n",
    "FROM customers\n",
    "WHERE (city = 'Boston' OR city = 'Madrid') AND (creditLimitNum > 50000)\n",
    "ORDER BY CreditLimit DESC\n",
    "LIMIT 15\n",
    ";\n",
    "\"\"\"\n",
    "df = pd.read_sql(quiz, conn)\n",
    "df"
   ]
  },
  {
   "cell_type": "code",
   "execution_count": 33,
   "metadata": {},
   "outputs": [],
   "source": [
    "# closing the file\n",
    "conn.close()"
   ]
  },
  {
   "cell_type": "markdown",
   "metadata": {},
   "source": [
    "**IN SUMMARY** \n",
    " \n",
    "Here’s a summary of key concepts about working with SQLite connections and performing common database tasks:\n",
    "\n",
    "**Establishing a Connection:**\n",
    "\n",
    "* Use `sqlite3.connect('database_name.sqlite')` to connect to an SQLite database file. This connection object (`conn`) allows you to execute SQL commands and manage transactions.\n",
    "\n",
    "**Using a Cursor:**\n",
    "\n",
    "* A cursor (`cur = conn.cursor()`) is required for executing SQL commands. It acts as an intermediary for sending queries and fetching results from the database.\n",
    "\n",
    "**Schema Exploration:**\n",
    "\n",
    "* To explore a database structure, use the `PRAGMA table_info(table_name)` command to get details about a specific table's columns, types, and constraints.\n",
    "* Use Pandas with `pd.read_sql(\"PRAGMA table_info(table_name)\", conn)` to load this schema information into a DataFrame for analysis.\n",
    "\n",
    "**Executing Queries and Data Retrieval**\n",
    "\n",
    "* Use SQL `SELECT` statements to retrieve data, optionally transforming the results into a DataFrame with `pd.read_sql`.\n",
    "\n",
    "**Common query features:**\n",
    "\n",
    "* WHERE filters records based on conditions.\n",
    "* ORDER BY sorts results.\n",
    "* LIMIT restricts the number of rows returned.\n",
    "\n",
    "**Altering Table Structure:**\n",
    "\n",
    "* Use ALTER TABLE to modify a table structure, such as adding a new column. For example:\n",
    "\n",
    "`ALTER TABLE customers ADD COLUMN creditLimitNumeric REAL;`\n",
    "\n",
    "* To populate this new column, you can convert data types with CAST.\n",
    "\n",
    "**Database Administration Note:**\n",
    "\n",
    "Typically, data scientists have read-only access to databases, focusing on SELECT queries. Altering structures is usually reserved for database administrators."
   ]
  }
 ],
 "metadata": {
  "colab": {
   "provenance": []
  },
  "kernelspec": {
   "display_name": "Python 3",
   "language": "python",
   "name": "python3"
  },
  "language_info": {
   "codemirror_mode": {
    "name": "ipython",
    "version": 3
   },
   "file_extension": ".py",
   "mimetype": "text/x-python",
   "name": "python",
   "nbconvert_exporter": "python",
   "pygments_lexer": "ipython3",
   "version": "3.8.5"
  }
 },
 "nbformat": 4,
 "nbformat_minor": 1
}
