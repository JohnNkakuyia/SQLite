{
 "cells": [
  {
   "cell_type": "markdown",
   "metadata": {},
   "source": [
    "## Filtering and Ordering\n"
   ]
  },
  {
   "cell_type": "markdown",
   "metadata": {},
   "source": [
    "Goals:\n",
    "\n",
    "* Write SQL queries to filter and order results\n",
    "* Order the results of your queries by using ORDER BY (ASC & DESC)\n",
    "* Limit the number of records returned by a query using LIMIT\n",
    "* Filter results using BETWEEN and IS NULL"
   ]
  },
  {
   "cell_type": "markdown",
   "metadata": {},
   "source": [
    "### Creating our Database"
   ]
  },
  {
   "cell_type": "code",
   "execution_count": 1,
   "metadata": {},
   "outputs": [],
   "source": [
    "import pandas as pd\n",
    "import sqlite3\n",
    "\n",
    "conn = sqlite3.connect(\"pets_database.db\")\n",
    "cur = conn.cursor()"
   ]
  },
  {
   "cell_type": "code",
   "execution_count": 2,
   "metadata": {},
   "outputs": [
    {
     "data": {
      "text/plain": [
       "[('CREATE TABLE cats ( id INTEGER PRIMARY KEY, name TEXT, age INTEGER, breed TEXT, owner_id INTEGER )',),\n",
       " ('CREATE TABLE dogs (\\n    id INTEGER PRIMARY KEY,\\n    name TEXT\\n)',)]"
      ]
     },
     "execution_count": 2,
     "metadata": {},
     "output_type": "execute_result"
    }
   ],
   "source": [
    "# checking the sql database\n",
    "cur = cur.execute(\"\"\"SELECT sql FROM sqlite_master;\"\"\")\n",
    "pets_database = cur.fetchall()\n",
    "pets_database"
   ]
  },
  {
   "cell_type": "code",
   "execution_count": 3,
   "metadata": {},
   "outputs": [
    {
     "data": {
      "text/html": [
       "<div>\n",
       "<style scoped>\n",
       "    .dataframe tbody tr th:only-of-type {\n",
       "        vertical-align: middle;\n",
       "    }\n",
       "\n",
       "    .dataframe tbody tr th {\n",
       "        vertical-align: top;\n",
       "    }\n",
       "\n",
       "    .dataframe thead th {\n",
       "        text-align: right;\n",
       "    }\n",
       "</style>\n",
       "<table border=\"1\" class=\"dataframe\">\n",
       "  <thead>\n",
       "    <tr style=\"text-align: right;\">\n",
       "      <th></th>\n",
       "      <th>id</th>\n",
       "      <th>name</th>\n",
       "      <th>age</th>\n",
       "      <th>breed</th>\n",
       "      <th>owner_id</th>\n",
       "    </tr>\n",
       "  </thead>\n",
       "  <tbody>\n",
       "    <tr>\n",
       "      <th>0</th>\n",
       "      <td>1</td>\n",
       "      <td>Maru</td>\n",
       "      <td>3.0</td>\n",
       "      <td>Scottish Fold</td>\n",
       "      <td>1.0</td>\n",
       "    </tr>\n",
       "    <tr>\n",
       "      <th>1</th>\n",
       "      <td>2</td>\n",
       "      <td>Hana</td>\n",
       "      <td>1.0</td>\n",
       "      <td>Tabby</td>\n",
       "      <td>1.0</td>\n",
       "    </tr>\n",
       "    <tr>\n",
       "      <th>2</th>\n",
       "      <td>3</td>\n",
       "      <td>Lil' Bub</td>\n",
       "      <td>5.0</td>\n",
       "      <td>American Shorthair</td>\n",
       "      <td>NaN</td>\n",
       "    </tr>\n",
       "    <tr>\n",
       "      <th>3</th>\n",
       "      <td>4</td>\n",
       "      <td>Moe</td>\n",
       "      <td>10.0</td>\n",
       "      <td>Tabby</td>\n",
       "      <td>NaN</td>\n",
       "    </tr>\n",
       "    <tr>\n",
       "      <th>4</th>\n",
       "      <td>5</td>\n",
       "      <td>Patches</td>\n",
       "      <td>2.0</td>\n",
       "      <td>Calico</td>\n",
       "      <td>NaN</td>\n",
       "    </tr>\n",
       "    <tr>\n",
       "      <th>5</th>\n",
       "      <td>6</td>\n",
       "      <td>None</td>\n",
       "      <td>NaN</td>\n",
       "      <td>Tabby</td>\n",
       "      <td>NaN</td>\n",
       "    </tr>\n",
       "  </tbody>\n",
       "</table>\n",
       "</div>"
      ],
      "text/plain": [
       "   id      name   age               breed  owner_id\n",
       "0   1      Maru   3.0       Scottish Fold       1.0\n",
       "1   2      Hana   1.0               Tabby       1.0\n",
       "2   3  Lil' Bub   5.0  American Shorthair       NaN\n",
       "3   4       Moe  10.0               Tabby       NaN\n",
       "4   5   Patches   2.0              Calico       NaN\n",
       "5   6      None   NaN               Tabby       NaN"
      ]
     },
     "execution_count": 3,
     "metadata": {},
     "output_type": "execute_result"
    }
   ],
   "source": [
    "# select all data from cats data \n",
    "all_cats = pd.read_sql(\"\"\"SELECT * FROM cats;\"\"\", conn)\n",
    "all_cats"
   ]
  },
  {
   "cell_type": "markdown",
   "metadata": {},
   "source": [
    "### ORDER BY clause"
   ]
  },
  {
   "cell_type": "markdown",
   "metadata": {},
   "source": [
    "The ORDER BY clause in SQL is used to sort the results of a query based on one or more columns. It allows you to arrange the rows in either ascending (default) or descending order.\n",
    "\n",
    "**syntax**\n",
    "``` sql\n",
    "SELECT column1, column2, ...\n",
    "FROM table_name\n",
    "ORDER BY column_name [ASC|DESC];\n",
    "\n",
    "```"
   ]
  },
  {
   "cell_type": "markdown",
   "metadata": {},
   "source": [
    "* `ASC`: Sorts the result in ascending order (default).\n",
    "* `DESC`: Sorts the result in descending order."
   ]
  },
  {
   "cell_type": "markdown",
   "metadata": {},
   "source": [
    "**Use Cases:**\n",
    "    \n",
    "1. Displaying results in a specific order (e.g., top performers, recent dates).\n",
    "2. Organizing data for easier analysis.\n",
    "3. Providing input for further operations that require sorted data."
   ]
  },
  {
   "cell_type": "markdown",
   "metadata": {},
   "source": [
    "``` python\n",
    "cur.execute('''SELECT column_name FROM table_name ORDER BY column_name ASC|DESC;''').fetchall()\n",
    "```"
   ]
  },
  {
   "cell_type": "code",
   "execution_count": 4,
   "metadata": {},
   "outputs": [
    {
     "data": {
      "text/html": [
       "<div>\n",
       "<style scoped>\n",
       "    .dataframe tbody tr th:only-of-type {\n",
       "        vertical-align: middle;\n",
       "    }\n",
       "\n",
       "    .dataframe tbody tr th {\n",
       "        vertical-align: top;\n",
       "    }\n",
       "\n",
       "    .dataframe thead th {\n",
       "        text-align: right;\n",
       "    }\n",
       "</style>\n",
       "<table border=\"1\" class=\"dataframe\">\n",
       "  <thead>\n",
       "    <tr style=\"text-align: right;\">\n",
       "      <th></th>\n",
       "      <th>id</th>\n",
       "      <th>name</th>\n",
       "      <th>age</th>\n",
       "      <th>breed</th>\n",
       "      <th>owner_id</th>\n",
       "    </tr>\n",
       "  </thead>\n",
       "  <tbody>\n",
       "    <tr>\n",
       "      <th>0</th>\n",
       "      <td>6</td>\n",
       "      <td>None</td>\n",
       "      <td>NaN</td>\n",
       "      <td>Tabby</td>\n",
       "      <td>NaN</td>\n",
       "    </tr>\n",
       "    <tr>\n",
       "      <th>1</th>\n",
       "      <td>2</td>\n",
       "      <td>Hana</td>\n",
       "      <td>1.0</td>\n",
       "      <td>Tabby</td>\n",
       "      <td>1.0</td>\n",
       "    </tr>\n",
       "    <tr>\n",
       "      <th>2</th>\n",
       "      <td>5</td>\n",
       "      <td>Patches</td>\n",
       "      <td>2.0</td>\n",
       "      <td>Calico</td>\n",
       "      <td>NaN</td>\n",
       "    </tr>\n",
       "    <tr>\n",
       "      <th>3</th>\n",
       "      <td>1</td>\n",
       "      <td>Maru</td>\n",
       "      <td>3.0</td>\n",
       "      <td>Scottish Fold</td>\n",
       "      <td>1.0</td>\n",
       "    </tr>\n",
       "    <tr>\n",
       "      <th>4</th>\n",
       "      <td>3</td>\n",
       "      <td>Lil' Bub</td>\n",
       "      <td>5.0</td>\n",
       "      <td>American Shorthair</td>\n",
       "      <td>NaN</td>\n",
       "    </tr>\n",
       "    <tr>\n",
       "      <th>5</th>\n",
       "      <td>4</td>\n",
       "      <td>Moe</td>\n",
       "      <td>10.0</td>\n",
       "      <td>Tabby</td>\n",
       "      <td>NaN</td>\n",
       "    </tr>\n",
       "  </tbody>\n",
       "</table>\n",
       "</div>"
      ],
      "text/plain": [
       "   id      name   age               breed  owner_id\n",
       "0   6      None   NaN               Tabby       NaN\n",
       "1   2      Hana   1.0               Tabby       1.0\n",
       "2   5   Patches   2.0              Calico       NaN\n",
       "3   1      Maru   3.0       Scottish Fold       1.0\n",
       "4   3  Lil' Bub   5.0  American Shorthair       NaN\n",
       "5   4       Moe  10.0               Tabby       NaN"
      ]
     },
     "execution_count": 4,
     "metadata": {},
     "output_type": "execute_result"
    }
   ],
   "source": [
    "#  select all cats order by age\n",
    "cats_age = pd.read_sql(\"\"\"SELECT * FROM cats ORDER BY age;\"\"\", conn)\n",
    "cats_age"
   ]
  },
  {
   "cell_type": "code",
   "execution_count": 5,
   "metadata": {},
   "outputs": [
    {
     "data": {
      "text/html": [
       "<div>\n",
       "<style scoped>\n",
       "    .dataframe tbody tr th:only-of-type {\n",
       "        vertical-align: middle;\n",
       "    }\n",
       "\n",
       "    .dataframe tbody tr th {\n",
       "        vertical-align: top;\n",
       "    }\n",
       "\n",
       "    .dataframe thead th {\n",
       "        text-align: right;\n",
       "    }\n",
       "</style>\n",
       "<table border=\"1\" class=\"dataframe\">\n",
       "  <thead>\n",
       "    <tr style=\"text-align: right;\">\n",
       "      <th></th>\n",
       "      <th>id</th>\n",
       "      <th>name</th>\n",
       "      <th>age</th>\n",
       "      <th>breed</th>\n",
       "      <th>owner_id</th>\n",
       "    </tr>\n",
       "  </thead>\n",
       "  <tbody>\n",
       "    <tr>\n",
       "      <th>0</th>\n",
       "      <td>4</td>\n",
       "      <td>Moe</td>\n",
       "      <td>10.0</td>\n",
       "      <td>Tabby</td>\n",
       "      <td>NaN</td>\n",
       "    </tr>\n",
       "    <tr>\n",
       "      <th>1</th>\n",
       "      <td>3</td>\n",
       "      <td>Lil' Bub</td>\n",
       "      <td>5.0</td>\n",
       "      <td>American Shorthair</td>\n",
       "      <td>NaN</td>\n",
       "    </tr>\n",
       "    <tr>\n",
       "      <th>2</th>\n",
       "      <td>1</td>\n",
       "      <td>Maru</td>\n",
       "      <td>3.0</td>\n",
       "      <td>Scottish Fold</td>\n",
       "      <td>1.0</td>\n",
       "    </tr>\n",
       "    <tr>\n",
       "      <th>3</th>\n",
       "      <td>5</td>\n",
       "      <td>Patches</td>\n",
       "      <td>2.0</td>\n",
       "      <td>Calico</td>\n",
       "      <td>NaN</td>\n",
       "    </tr>\n",
       "    <tr>\n",
       "      <th>4</th>\n",
       "      <td>2</td>\n",
       "      <td>Hana</td>\n",
       "      <td>1.0</td>\n",
       "      <td>Tabby</td>\n",
       "      <td>1.0</td>\n",
       "    </tr>\n",
       "    <tr>\n",
       "      <th>5</th>\n",
       "      <td>6</td>\n",
       "      <td>None</td>\n",
       "      <td>NaN</td>\n",
       "      <td>Tabby</td>\n",
       "      <td>NaN</td>\n",
       "    </tr>\n",
       "  </tbody>\n",
       "</table>\n",
       "</div>"
      ],
      "text/plain": [
       "   id      name   age               breed  owner_id\n",
       "0   4       Moe  10.0               Tabby       NaN\n",
       "1   3  Lil' Bub   5.0  American Shorthair       NaN\n",
       "2   1      Maru   3.0       Scottish Fold       1.0\n",
       "3   5   Patches   2.0              Calico       NaN\n",
       "4   2      Hana   1.0               Tabby       1.0\n",
       "5   6      None   NaN               Tabby       NaN"
      ]
     },
     "execution_count": 5,
     "metadata": {},
     "output_type": "execute_result"
    }
   ],
   "source": [
    "#  select all of our cats and sort them by age in descending order\n",
    "cats_age_desc = pd.read_sql(\"\"\"SELECT * FROM cats ORDER BY age DESC;\"\"\", conn)\n",
    "cats_age_desc\n",
    "                                 "
   ]
  },
  {
   "cell_type": "markdown",
   "metadata": {},
   "source": [
    "### LIMIT clause\n",
    "\n",
    "The `LIMIT` clause in SQL is used to restrict the number of rows returned by a query. It's especially useful when dealing with large datasets where you only need a subset of the results."
   ]
  },
  {
   "cell_type": "markdown",
   "metadata": {},
   "source": [
    "``` sql\n",
    "\n",
    "SELECT column1, column2, ...\n",
    "FROM table_name\n",
    "[WHERE condition]\n",
    "ORDER BY column_name [ASC|DESC]\n",
    "LIMIT number_of_rows;\n",
    "\n",
    "```\n",
    "\n",
    "`LIMIT`: Specifies the maximum number of rows to return"
   ]
  },
  {
   "cell_type": "markdown",
   "metadata": {},
   "source": [
    "**Use Cases:**\n",
    "    \n",
    "1. *Pagination*: Retrieve a specific subset of rows for a page in an application.\n",
    "2. *Top N Analysis*: Fetch the top-performing rows based on a metric (e.g., top 10 sales).\n",
    "3. *Preview Data*: View a small sample of a large dataset."
   ]
  },
  {
   "cell_type": "markdown",
   "metadata": {},
   "source": [
    "```python\n",
    "cur.execute('''SELECT * FROM cats ORDER BY age DESC LIMIT 1;''').fetchone()\n",
    "```"
   ]
  },
  {
   "cell_type": "code",
   "execution_count": 6,
   "metadata": {},
   "outputs": [
    {
     "data": {
      "text/html": [
       "<div>\n",
       "<style scoped>\n",
       "    .dataframe tbody tr th:only-of-type {\n",
       "        vertical-align: middle;\n",
       "    }\n",
       "\n",
       "    .dataframe tbody tr th {\n",
       "        vertical-align: top;\n",
       "    }\n",
       "\n",
       "    .dataframe thead th {\n",
       "        text-align: right;\n",
       "    }\n",
       "</style>\n",
       "<table border=\"1\" class=\"dataframe\">\n",
       "  <thead>\n",
       "    <tr style=\"text-align: right;\">\n",
       "      <th></th>\n",
       "      <th>id</th>\n",
       "      <th>name</th>\n",
       "      <th>age</th>\n",
       "      <th>breed</th>\n",
       "      <th>owner_id</th>\n",
       "    </tr>\n",
       "  </thead>\n",
       "  <tbody>\n",
       "    <tr>\n",
       "      <th>0</th>\n",
       "      <td>4</td>\n",
       "      <td>Moe</td>\n",
       "      <td>10</td>\n",
       "      <td>Tabby</td>\n",
       "      <td>None</td>\n",
       "    </tr>\n",
       "    <tr>\n",
       "      <th>1</th>\n",
       "      <td>3</td>\n",
       "      <td>Lil' Bub</td>\n",
       "      <td>5</td>\n",
       "      <td>American Shorthair</td>\n",
       "      <td>None</td>\n",
       "    </tr>\n",
       "  </tbody>\n",
       "</table>\n",
       "</div>"
      ],
      "text/plain": [
       "   id      name  age               breed owner_id\n",
       "0   4       Moe   10               Tabby     None\n",
       "1   3  Lil' Bub    5  American Shorthair     None"
      ]
     },
     "execution_count": 6,
     "metadata": {},
     "output_type": "execute_result"
    }
   ],
   "source": [
    "# Let's get the two oldest cats\n",
    "oldest_cats = pd.read_sql(\"\"\"SELECT * FROM cats ORDER  BY age DESC LIMIT 2;\"\"\", conn)\n",
    "oldest_cats\n",
    " "
   ]
  },
  {
   "cell_type": "markdown",
   "metadata": {},
   "source": [
    "### BETWEEN clause\n",
    "\n",
    "The BETWEEN clause in SQL is used to filter the rows where a column's value falls within a specified range. It is inclusive, meaning it includes both the starting and ending values of the range.\n",
    "\n",
    "``` sql\n",
    "SELECT column1, column2, ...\n",
    "FROM table_name\n",
    "WHERE column_name BETWEEN value1 AND value2;\n",
    "```\n",
    "\n",
    "* value1: The lower bound of the range.\n",
    "* value2: The upper bound of the range.\n",
    "    \n",
    "**Key Points:**\n",
    "    \n",
    "1. Inclusive: The range includes both boundary values.\n",
    "2. Supports Numbers, Dates, and Text: You can use BETWEEN for numeric, date, or string data types.\n",
    "3. Readability: Simplifies filtering ranges compared to using multiple conditions:\n",
    "\n",
    "```sql\n",
    "WHERE column_name >= value1 AND column_name <= value2\n",
    "\n",
    "```\n"
   ]
  },
  {
   "cell_type": "code",
   "execution_count": 7,
   "metadata": {},
   "outputs": [
    {
     "data": {
      "text/html": [
       "<div>\n",
       "<style scoped>\n",
       "    .dataframe tbody tr th:only-of-type {\n",
       "        vertical-align: middle;\n",
       "    }\n",
       "\n",
       "    .dataframe tbody tr th {\n",
       "        vertical-align: top;\n",
       "    }\n",
       "\n",
       "    .dataframe thead th {\n",
       "        text-align: right;\n",
       "    }\n",
       "</style>\n",
       "<table border=\"1\" class=\"dataframe\">\n",
       "  <thead>\n",
       "    <tr style=\"text-align: right;\">\n",
       "      <th></th>\n",
       "      <th>name</th>\n",
       "    </tr>\n",
       "  </thead>\n",
       "  <tbody>\n",
       "    <tr>\n",
       "      <th>0</th>\n",
       "      <td>Maru</td>\n",
       "    </tr>\n",
       "    <tr>\n",
       "      <th>1</th>\n",
       "      <td>Hana</td>\n",
       "    </tr>\n",
       "    <tr>\n",
       "      <th>2</th>\n",
       "      <td>Patches</td>\n",
       "    </tr>\n",
       "  </tbody>\n",
       "</table>\n",
       "</div>"
      ],
      "text/plain": [
       "      name\n",
       "0     Maru\n",
       "1     Hana\n",
       "2  Patches"
      ]
     },
     "execution_count": 7,
     "metadata": {},
     "output_type": "execute_result"
    }
   ],
   "source": [
    "# find all records of cats between ages 1 and 3\n",
    "cats_age_bwn_1_and_3 = pd.read_sql(\"\"\"SELECT name FROM cats WHERE age BETWEEN 1 AND 3;\"\"\", conn)\n",
    "cats_age_bwn_1_and_3\n",
    "\n"
   ]
  },
  {
   "cell_type": "markdown",
   "metadata": {},
   "source": [
    "### NULL\n",
    "\n",
    "In SQL, `NULL` represents a missing, unknown, or undefined value in a column. It is not equivalent to zero, an empty string, or any other value—it is simply the absence of a value.\n",
    "\n",
    "**Key Concepts:**\n",
    "    \n",
    "**NULL Value:**\n",
    "\n",
    "* `NULL` indicates missing or undefined data.\n",
    "* A column can contain `NULL` if no value is provided during data entry and the column allows `NULL`.\n",
    "\n",
    "**Not Comparable:**\n",
    "\n",
    "* `NULL` cannot be compared using standard operators like `=` or `!=`.\n",
    "* Special keywords (`IS NULL or IS NOT NULL`) are required to handle NULL values.\n"
   ]
  },
  {
   "cell_type": "code",
   "execution_count": 8,
   "metadata": {},
   "outputs": [
    {
     "data": {
      "text/html": [
       "<div>\n",
       "<style scoped>\n",
       "    .dataframe tbody tr th:only-of-type {\n",
       "        vertical-align: middle;\n",
       "    }\n",
       "\n",
       "    .dataframe tbody tr th {\n",
       "        vertical-align: top;\n",
       "    }\n",
       "\n",
       "    .dataframe thead th {\n",
       "        text-align: right;\n",
       "    }\n",
       "</style>\n",
       "<table border=\"1\" class=\"dataframe\">\n",
       "  <thead>\n",
       "    <tr style=\"text-align: right;\">\n",
       "      <th></th>\n",
       "      <th>id</th>\n",
       "      <th>name</th>\n",
       "      <th>age</th>\n",
       "      <th>breed</th>\n",
       "      <th>owner_id</th>\n",
       "    </tr>\n",
       "  </thead>\n",
       "  <tbody>\n",
       "    <tr>\n",
       "      <th>0</th>\n",
       "      <td>6</td>\n",
       "      <td>None</td>\n",
       "      <td>None</td>\n",
       "      <td>Tabby</td>\n",
       "      <td>None</td>\n",
       "    </tr>\n",
       "  </tbody>\n",
       "</table>\n",
       "</div>"
      ],
      "text/plain": [
       "   id  name   age  breed owner_id\n",
       "0   6  None  None  Tabby     None"
      ]
     },
     "execution_count": 8,
     "metadata": {},
     "output_type": "execute_result"
    }
   ],
   "source": [
    "# select cats where the name field is null\n",
    "cats_null_name = pd.read_sql(\"\"\"SELECT * FROM cats WHERE name IS NULL;\"\"\", conn)\n",
    "cats_null_name"
   ]
  },
  {
   "cell_type": "markdown",
   "metadata": {},
   "source": [
    " ### COUNT clause\n",
    "    \n",
    "The `COUNT` function in SQL is an aggregate function used to calculate the number of rows in a table or the number of non-`NULL` values in a specific column. It is commonly used for summarizing data.\n",
    "\n",
    "**syntax**\n",
    "```sql\n",
    "SELECT COUNT(column_name)\n",
    "FROM table_name\n",
    "[WHERE condition];\n",
    "```\n",
    "* `COUNT(column_name)`: Counts only non-`NULL` values in the column.\n",
    "* `COUNT(*):` Counts all rows, including those with `NULL` values.\n",
    "    \n",
    "**Use Cases:**\n",
    "\n",
    "* Basic Counts: Count all rows, filtered rows, or unique entries in a column.\n",
    "\n",
    "*Group Counts: Use `COUNT` with `GROUP BY` to calculate counts for each group\n",
    "    \n",
    "```sql \n",
    "SELECT color, COUNT(*)\n",
    "FROM planets\n",
    "GROUP BY color;\n",
    "\n",
    "```\n",
    "\n",
    "* `COUNT(*)`: Counts all rows.\n",
    "* `COUNT(column_name)`: Counts non-NULL values in a column.\n",
    "* `COUNT(DISTINCT column_name)`: Counts unique non-NULL values.\n"
   ]
  },
  {
   "cell_type": "code",
   "execution_count": 9,
   "metadata": {},
   "outputs": [
    {
     "data": {
      "text/html": [
       "<div>\n",
       "<style scoped>\n",
       "    .dataframe tbody tr th:only-of-type {\n",
       "        vertical-align: middle;\n",
       "    }\n",
       "\n",
       "    .dataframe tbody tr th {\n",
       "        vertical-align: top;\n",
       "    }\n",
       "\n",
       "    .dataframe thead th {\n",
       "        text-align: right;\n",
       "    }\n",
       "</style>\n",
       "<table border=\"1\" class=\"dataframe\">\n",
       "  <thead>\n",
       "    <tr style=\"text-align: right;\">\n",
       "      <th></th>\n",
       "      <th>COUNT(owner_id)</th>\n",
       "    </tr>\n",
       "  </thead>\n",
       "  <tbody>\n",
       "    <tr>\n",
       "      <th>0</th>\n",
       "      <td>2</td>\n",
       "    </tr>\n",
       "  </tbody>\n",
       "</table>\n",
       "</div>"
      ],
      "text/plain": [
       "   COUNT(owner_id)\n",
       "0                2"
      ]
     },
     "execution_count": 9,
     "metadata": {},
     "output_type": "execute_result"
    }
   ],
   "source": [
    "# count the number of cats who have an owner_id of 1\n",
    "owner_id_1 = pd.read_sql(\"\"\"SELECT COUNT(owner_id) FROM cats  WHERE  owner_id = 1;\"\"\", conn)\n",
    "owner_id_1"
   ]
  },
  {
   "cell_type": "markdown",
   "metadata": {},
   "source": [
    "### GROUP BY\n",
    "\n",
    "The `GROUP BY` clause in SQL is used to arrange rows with the same values in specified columns into groups. It is often used in combination with aggregate functions (like `COUNT`, `SUM`, `AVG`, `MAX`, `MIN`) to perform calculations for each group.\n",
    "\n",
    "```sql\n",
    "SELECT column1, aggregate_function(column2)\n",
    "FROM table_name\n",
    "[WHERE condition]\n",
    "GROUP BY column1;\n",
    "\n",
    "SELECT color, COUNT(*)\n",
    "FROM planets\n",
    "GROUP BY color;\n",
    "\n",
    "SELECT color, rings, COUNT(*)\n",
    "FROM planets\n",
    "GROUP BY color, rings;\n",
    "\n",
    "SELECT color, SUM(num_of_moons) AS total_moons\n",
    "FROM planets\n",
    "GROUP BY color;\n",
    "\n",
    "SELECT color, COUNT(*) AS planet_count\n",
    "FROM planets\n",
    "GROUP BY color\n",
    "HAVING COUNT(*) > 1;\n",
    "\n",
    "```\n",
    "\n",
    "* `column1`: The column by which rows are grouped.\n",
    "* `aggregate_function`: Performs calculations (e.g., `COUNT`, `SUM`, `AVG`) on each group.\n",
    "    \n",
    "**Key Differences Between WHERE and HAVING:**\n",
    "    \n",
    "* `WHERE`: Filters rows before grouping.\n",
    "* `HAVING`: Filters groups after aggregation.\n",
    "    \n",
    "    \n",
    "**Use Cases:**\n",
    "    \n",
    "*  **Summarizing Data**: Calculate totals, averages, or counts for categories.\n",
    "*  **Categorical Analysis**: Identify trends within grouped data.\n",
    "*  **Post-Aggregate Filtering**: Apply conditions on aggregate results."
   ]
  },
  {
   "cell_type": "code",
   "execution_count": 10,
   "metadata": {},
   "outputs": [
    {
     "data": {
      "text/html": [
       "<div>\n",
       "<style scoped>\n",
       "    .dataframe tbody tr th:only-of-type {\n",
       "        vertical-align: middle;\n",
       "    }\n",
       "\n",
       "    .dataframe tbody tr th {\n",
       "        vertical-align: top;\n",
       "    }\n",
       "\n",
       "    .dataframe thead th {\n",
       "        text-align: right;\n",
       "    }\n",
       "</style>\n",
       "<table border=\"1\" class=\"dataframe\">\n",
       "  <thead>\n",
       "    <tr style=\"text-align: right;\">\n",
       "      <th></th>\n",
       "      <th>breed</th>\n",
       "      <th>owner_id</th>\n",
       "      <th>COUNT(breed)</th>\n",
       "    </tr>\n",
       "  </thead>\n",
       "  <tbody>\n",
       "    <tr>\n",
       "      <th>0</th>\n",
       "      <td>American Shorthair</td>\n",
       "      <td>NaN</td>\n",
       "      <td>1</td>\n",
       "    </tr>\n",
       "    <tr>\n",
       "      <th>1</th>\n",
       "      <td>Calico</td>\n",
       "      <td>NaN</td>\n",
       "      <td>1</td>\n",
       "    </tr>\n",
       "    <tr>\n",
       "      <th>2</th>\n",
       "      <td>Scottish Fold</td>\n",
       "      <td>1.0</td>\n",
       "      <td>1</td>\n",
       "    </tr>\n",
       "    <tr>\n",
       "      <th>3</th>\n",
       "      <td>Tabby</td>\n",
       "      <td>NaN</td>\n",
       "      <td>2</td>\n",
       "    </tr>\n",
       "    <tr>\n",
       "      <th>4</th>\n",
       "      <td>Tabby</td>\n",
       "      <td>1.0</td>\n",
       "      <td>1</td>\n",
       "    </tr>\n",
       "  </tbody>\n",
       "</table>\n",
       "</div>"
      ],
      "text/plain": [
       "                breed  owner_id  COUNT(breed)\n",
       "0  American Shorthair       NaN             1\n",
       "1              Calico       NaN             1\n",
       "2       Scottish Fold       1.0             1\n",
       "3               Tabby       NaN             2\n",
       "4               Tabby       1.0             1"
      ]
     },
     "execution_count": 10,
     "metadata": {},
     "output_type": "execute_result"
    }
   ],
   "source": [
    "# group cats by breed \n",
    "breeds = pd.read_sql(\"\"\"SELECT breed, owner_id,  COUNT(breed) FROM cats GROUP BY breed, owner_id;\"\"\", conn)\n",
    "breeds"
   ]
  },
  {
   "cell_type": "markdown",
   "metadata": {},
   "source": [
    "### note on SELECT clause\n",
    "\n",
    "When using multiple tables, specify the table name.\n",
    "\n",
    "**syntax**\n",
    "\n",
    "```sql\n",
    "SELECT table1.column_name, table2.column_name\n",
    "FROM table1, table2\n",
    "JOIN table2 ON table1.id = table2.id;\n",
    "```"
   ]
  },
  {
   "cell_type": "code",
   "execution_count": 11,
   "metadata": {
    "scrolled": true
   },
   "outputs": [],
   "source": [
    "# SQL statement to create the dogs table\n",
    "create_table_query = \"\"\"\n",
    "CREATE TABLE IF NOT EXISTS dogs (\n",
    "    id INTEGER PRIMARY KEY,\n",
    "    name TEXT\n",
    ");\n",
    "\"\"\"\n",
    "cur.execute(create_table_query)\n",
    "conn.commit()  # Commit the table creation\"\""
   ]
  },
  {
   "cell_type": "code",
   "execution_count": 12,
   "metadata": {},
   "outputs": [],
   "source": [
    "insert_query = \"\"\"\n",
    "INSERT INTO dogs (name) VALUES (?);\n",
    "\"\"\"\n",
    "names = [\"Clifford\", \"Tana\", \"Tom\"]\n",
    "\n",
    "# Loop through each name and execute the insert query\n",
    "for name in names:\n",
    "    cur.execute(insert_query, (name,))\n",
    "\n",
    "conn.commit()  # Commit changes"
   ]
  },
  {
   "cell_type": "code",
   "execution_count": 13,
   "metadata": {},
   "outputs": [
    {
     "data": {
      "text/html": [
       "<div>\n",
       "<style scoped>\n",
       "    .dataframe tbody tr th:only-of-type {\n",
       "        vertical-align: middle;\n",
       "    }\n",
       "\n",
       "    .dataframe tbody tr th {\n",
       "        vertical-align: top;\n",
       "    }\n",
       "\n",
       "    .dataframe thead th {\n",
       "        text-align: right;\n",
       "    }\n",
       "</style>\n",
       "<table border=\"1\" class=\"dataframe\">\n",
       "  <thead>\n",
       "    <tr style=\"text-align: right;\">\n",
       "      <th></th>\n",
       "      <th>name</th>\n",
       "    </tr>\n",
       "  </thead>\n",
       "  <tbody>\n",
       "    <tr>\n",
       "      <th>0</th>\n",
       "      <td>Clifford</td>\n",
       "    </tr>\n",
       "    <tr>\n",
       "      <th>1</th>\n",
       "      <td>Clifford</td>\n",
       "    </tr>\n",
       "    <tr>\n",
       "      <th>2</th>\n",
       "      <td>Tana</td>\n",
       "    </tr>\n",
       "    <tr>\n",
       "      <th>3</th>\n",
       "      <td>Tom</td>\n",
       "    </tr>\n",
       "    <tr>\n",
       "      <th>4</th>\n",
       "      <td>Clifford</td>\n",
       "    </tr>\n",
       "    <tr>\n",
       "      <th>5</th>\n",
       "      <td>Tana</td>\n",
       "    </tr>\n",
       "    <tr>\n",
       "      <th>6</th>\n",
       "      <td>Tom</td>\n",
       "    </tr>\n",
       "    <tr>\n",
       "      <th>7</th>\n",
       "      <td>Clifford</td>\n",
       "    </tr>\n",
       "    <tr>\n",
       "      <th>8</th>\n",
       "      <td>Tana</td>\n",
       "    </tr>\n",
       "    <tr>\n",
       "      <th>9</th>\n",
       "      <td>Tom</td>\n",
       "    </tr>\n",
       "  </tbody>\n",
       "</table>\n",
       "</div>"
      ],
      "text/plain": [
       "       name\n",
       "0  Clifford\n",
       "1  Clifford\n",
       "2      Tana\n",
       "3       Tom\n",
       "4  Clifford\n",
       "5      Tana\n",
       "6       Tom\n",
       "7  Clifford\n",
       "8      Tana\n",
       "9       Tom"
      ]
     },
     "execution_count": 13,
     "metadata": {},
     "output_type": "execute_result"
    }
   ],
   "source": [
    "dog_name = pd.read_sql(\"\"\"SELECT dogs.name FROM dogs;\"\"\",conn)\n",
    "dog_name"
   ]
  },
  {
   "cell_type": "markdown",
   "metadata": {},
   "source": [
    "### Bonus , Calender 2025 "
   ]
  },
  {
   "cell_type": "code",
   "execution_count": 14,
   "metadata": {},
   "outputs": [
    {
     "name": "stdout",
     "output_type": "stream",
     "text": [
      "Enter Year2025\n",
      "                                    2025\n",
      "\n",
      "      January                     February                     March\n",
      "Mo Tu We Th Fr Sa Su        Mo Tu We Th Fr Sa Su        Mo Tu We Th Fr Sa Su\n",
      "       1  2  3  4  5                        1  2                        1  2\n",
      " 6  7  8  9 10 11 12         3  4  5  6  7  8  9         3  4  5  6  7  8  9\n",
      "13 14 15 16 17 18 19        10 11 12 13 14 15 16        10 11 12 13 14 15 16\n",
      "20 21 22 23 24 25 26        17 18 19 20 21 22 23        17 18 19 20 21 22 23\n",
      "27 28 29 30 31              24 25 26 27 28              24 25 26 27 28 29 30\n",
      "                                                        31\n",
      "\n",
      "       April                        May                         June\n",
      "Mo Tu We Th Fr Sa Su        Mo Tu We Th Fr Sa Su        Mo Tu We Th Fr Sa Su\n",
      "    1  2  3  4  5  6                  1  2  3  4                           1\n",
      " 7  8  9 10 11 12 13         5  6  7  8  9 10 11         2  3  4  5  6  7  8\n",
      "14 15 16 17 18 19 20        12 13 14 15 16 17 18         9 10 11 12 13 14 15\n",
      "21 22 23 24 25 26 27        19 20 21 22 23 24 25        16 17 18 19 20 21 22\n",
      "28 29 30                    26 27 28 29 30 31           23 24 25 26 27 28 29\n",
      "                                                        30\n",
      "\n",
      "        July                       August                    September\n",
      "Mo Tu We Th Fr Sa Su        Mo Tu We Th Fr Sa Su        Mo Tu We Th Fr Sa Su\n",
      "    1  2  3  4  5  6                     1  2  3         1  2  3  4  5  6  7\n",
      " 7  8  9 10 11 12 13         4  5  6  7  8  9 10         8  9 10 11 12 13 14\n",
      "14 15 16 17 18 19 20        11 12 13 14 15 16 17        15 16 17 18 19 20 21\n",
      "21 22 23 24 25 26 27        18 19 20 21 22 23 24        22 23 24 25 26 27 28\n",
      "28 29 30 31                 25 26 27 28 29 30 31        29 30\n",
      "\n",
      "      October                     November                    December\n",
      "Mo Tu We Th Fr Sa Su        Mo Tu We Th Fr Sa Su        Mo Tu We Th Fr Sa Su\n",
      "       1  2  3  4  5                        1  2         1  2  3  4  5  6  7\n",
      " 6  7  8  9 10 11 12         3  4  5  6  7  8  9         8  9 10 11 12 13 14\n",
      "13 14 15 16 17 18 19        10 11 12 13 14 15 16        15 16 17 18 19 20 21\n",
      "20 21 22 23 24 25 26        17 18 19 20 21 22 23        22 23 24 25 26 27 28\n",
      "27 28 29 30 31              24 25 26 27 28 29 30        29 30 31\n",
      "\n"
     ]
    }
   ],
   "source": [
    "from calendar import TextCalendar  # Import the TextCalendar class from the calendar module\n",
    "\n",
    "year = int(input('Enter Year'))  # Prompt the user to input a year and convert it to an integer\n",
    "\n",
    "cal = TextCalendar()  # Create an instance of TextCalendar, which generates text-based calendars\n",
    "\n",
    "# Print the formatted year calendar\n",
    "# formatyear parameters:\n",
    "# - year: The year for which the calendar is generated\n",
    "# - width: (2) The width of each date column\n",
    "# - length: (1) The number of lines for each week\n",
    "# - c: (8) The spacing between months\n",
    "# - m: (3) The number of months per row\n",
    "print(cal.formatyear(year, 2, 1, 8, 3))"
   ]
  },
  {
   "cell_type": "code",
   "execution_count": 17,
   "metadata": {},
   "outputs": [
    {
     "name": "stdout",
     "output_type": "stream",
     "text": [
      "Current Time: 22:05:40\n"
     ]
    }
   ],
   "source": [
    "from datetime import datetime  # Import the datetime class from the datetime module\n",
    "\n",
    "# Get the current time\n",
    "current_time = datetime.now()\n",
    "\n",
    "# Format and print the current time\n",
    "print(\"Current Time:\", current_time.strftime(\"%H:%M:%S\"))\n"
   ]
  }
 ],
 "metadata": {
  "kernelspec": {
   "display_name": "Python (learn-env)",
   "language": "python",
   "name": "learn-env"
  },
  "language_info": {
   "codemirror_mode": {
    "name": "ipython",
    "version": 3
   },
   "file_extension": ".py",
   "mimetype": "text/x-python",
   "name": "python",
   "nbconvert_exporter": "python",
   "pygments_lexer": "ipython3",
   "version": "3.8.5"
  }
 },
 "nbformat": 4,
 "nbformat_minor": 4
}
